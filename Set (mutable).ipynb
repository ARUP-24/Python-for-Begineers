{
 "cells": [
  {
   "cell_type": "markdown",
   "id": "67f9e6e0",
   "metadata": {},
   "source": [
    "# Length of set"
   ]
  },
  {
   "cell_type": "code",
   "execution_count": 14,
   "id": "427afb7b",
   "metadata": {},
   "outputs": [
    {
     "name": "stdout",
     "output_type": "stream",
     "text": [
      "4\n"
     ]
    }
   ],
   "source": [
    "set1 = {\"arup\",1,2.3,False,1}\n",
    "print(len(set1))"
   ]
  },
  {
   "cell_type": "markdown",
   "id": "954d9e6a",
   "metadata": {},
   "source": [
    "# Making set using function"
   ]
  },
  {
   "cell_type": "code",
   "execution_count": 5,
   "id": "6c58961f",
   "metadata": {},
   "outputs": [
    {
     "name": "stdout",
     "output_type": "stream",
     "text": [
      "{1, 2, 3, 4}\n"
     ]
    }
   ],
   "source": [
    "set1 =set({1,2,3,4})\n",
    "print(set1)"
   ]
  },
  {
   "cell_type": "markdown",
   "id": "c2b4a8d9",
   "metadata": {},
   "source": [
    "# Empty set"
   ]
  },
  {
   "cell_type": "code",
   "execution_count": 7,
   "id": "706b8960",
   "metadata": {},
   "outputs": [
    {
     "name": "stdout",
     "output_type": "stream",
     "text": [
      "set()\n",
      "<class 'set'>\n"
     ]
    }
   ],
   "source": [
    "set1 = set()\n",
    "print(set1)\n",
    "print(type(set1))"
   ]
  },
  {
   "cell_type": "markdown",
   "id": "389c4a03",
   "metadata": {},
   "source": [
    "# Add an Element"
   ]
  },
  {
   "cell_type": "code",
   "execution_count": 17,
   "id": "d1339b07",
   "metadata": {},
   "outputs": [
    {
     "name": "stdout",
     "output_type": "stream",
     "text": [
      "{False, 1, 2.3, 'arup', 'dalai'}\n"
     ]
    }
   ],
   "source": [
    "set1 = {\"arup\",1,2.3,False}\n",
    "set1.add(\"dalai\")\n",
    "print(set1)"
   ]
  },
  {
   "cell_type": "markdown",
   "id": "a37c9cfc",
   "metadata": {},
   "source": [
    "# Remove an Element"
   ]
  },
  {
   "cell_type": "code",
   "execution_count": 10,
   "id": "6d1b0160",
   "metadata": {},
   "outputs": [
    {
     "name": "stdout",
     "output_type": "stream",
     "text": [
      "{False, 1, 2.3}\n"
     ]
    }
   ],
   "source": [
    "set1 = {\"arup\",1,2.3,False}\n",
    "set1.remove(\"arup\")\n",
    "print(set1)"
   ]
  },
  {
   "cell_type": "markdown",
   "id": "b52dc023",
   "metadata": {},
   "source": [
    "# Delete set"
   ]
  },
  {
   "cell_type": "code",
   "execution_count": 11,
   "id": "55c517b7",
   "metadata": {},
   "outputs": [
    {
     "ename": "NameError",
     "evalue": "name 'set1' is not defined",
     "output_type": "error",
     "traceback": [
      "\u001b[1;31m---------------------------------------------------------------------------\u001b[0m",
      "\u001b[1;31mNameError\u001b[0m                                 Traceback (most recent call last)",
      "Cell \u001b[1;32mIn[11], line 3\u001b[0m\n\u001b[0;32m      1\u001b[0m set1 \u001b[38;5;241m=\u001b[39m {\u001b[38;5;124m\"\u001b[39m\u001b[38;5;124marup\u001b[39m\u001b[38;5;124m\"\u001b[39m,\u001b[38;5;241m1\u001b[39m,\u001b[38;5;241m2.3\u001b[39m,\u001b[38;5;28;01mFalse\u001b[39;00m}\n\u001b[0;32m      2\u001b[0m \u001b[38;5;28;01mdel\u001b[39;00m set1\n\u001b[1;32m----> 3\u001b[0m \u001b[38;5;28mprint\u001b[39m(\u001b[43mset1\u001b[49m)\n",
      "\u001b[1;31mNameError\u001b[0m: name 'set1' is not defined"
     ]
    }
   ],
   "source": [
    "set1 = {\"arup\",1,2.3,False}\n",
    "del set1\n",
    "print(set1)"
   ]
  },
  {
   "cell_type": "markdown",
   "id": "0ff36a86",
   "metadata": {},
   "source": [
    "# empty the set"
   ]
  },
  {
   "cell_type": "code",
   "execution_count": 12,
   "id": "5d5edbf9",
   "metadata": {},
   "outputs": [
    {
     "name": "stdout",
     "output_type": "stream",
     "text": [
      "set()\n"
     ]
    }
   ],
   "source": [
    "set1 = {\"arup\",1,2.3,False}\n",
    "set1.clear()\n",
    "print(set1)"
   ]
  },
  {
   "cell_type": "markdown",
   "id": "96d3b3b6",
   "metadata": {},
   "source": [
    "# Remove a random element from set"
   ]
  },
  {
   "cell_type": "code",
   "execution_count": 13,
   "id": "f3ab7b11",
   "metadata": {},
   "outputs": [
    {
     "name": "stdout",
     "output_type": "stream",
     "text": [
      "{1, 2.3, 'arup'}\n"
     ]
    }
   ],
   "source": [
    "set1 = {\"arup\",1,2.3,False}\n",
    "set1.pop()\n",
    "print(set1)"
   ]
  },
  {
   "cell_type": "markdown",
   "id": "d580a3d3",
   "metadata": {},
   "source": [
    "# Combine both set values and return new"
   ]
  },
  {
   "cell_type": "code",
   "execution_count": 15,
   "id": "0613a192",
   "metadata": {},
   "outputs": [
    {
     "name": "stdout",
     "output_type": "stream",
     "text": [
      "{False, 1, 2.3, 'arup', 24, 'dalai'}\n"
     ]
    }
   ],
   "source": [
    "set1 = {\"arup\",1,2.3,False}\n",
    "set2 = {\"dalai\",24,True,2.3,\"arup\"}\n",
    "print(set1.union(set2))"
   ]
  },
  {
   "cell_type": "markdown",
   "id": "c71474db",
   "metadata": {},
   "source": [
    "# combine common values and return new"
   ]
  },
  {
   "cell_type": "code",
   "execution_count": 18,
   "id": "7bab2705",
   "metadata": {},
   "outputs": [
    {
     "name": "stdout",
     "output_type": "stream",
     "text": [
      "{1, 2.3, 'arup'}\n"
     ]
    }
   ],
   "source": [
    "set1 = {\"arup\",1,2.3,False}\n",
    "set2 = {\"dalai\",24,True,2.3,\"arup\"}\n",
    "print(set1.intersection(set2))"
   ]
  },
  {
   "cell_type": "markdown",
   "id": "c3c04340",
   "metadata": {},
   "source": [
    "# Store following words meaning in a python dictionary.\n",
    "\n",
    "table : \"a piece of furniture\",\"list of food and figures\"\n",
    "cat : \"a small animal\""
   ]
  },
  {
   "cell_type": "code",
   "execution_count": 19,
   "id": "d8691888",
   "metadata": {},
   "outputs": [
    {
     "name": "stdout",
     "output_type": "stream",
     "text": [
      "{'table': ['a piece of furniture', 'list of food and figures'], 'cat': 'a small animal'}\n"
     ]
    }
   ],
   "source": [
    "dict1 = {\"table\":[\"a piece of furniture\",\"list of food and figures\"],\"cat\":\"a small animal\"}\n",
    "print(dict1)"
   ]
  },
  {
   "cell_type": "markdown",
   "id": "dabd0196",
   "metadata": {},
   "source": [
    "# You are given a list of subjects for students. assume one class is reuired for 1 subjects . How many classrooms are needed by all students.\n",
    "\n",
    "\"python\",\"java\",\"c++\",\"python\",\"javascript\",\"java\",\"python\",\"java\",\"c++\",\"c\""
   ]
  },
  {
   "cell_type": "code",
   "execution_count": 20,
   "id": "05881753",
   "metadata": {},
   "outputs": [
    {
     "name": "stdout",
     "output_type": "stream",
     "text": [
      "5\n"
     ]
    }
   ],
   "source": [
    "set1 = {\"python\",\"java\",\"c++\",\"python\",\"javascript\",\"java\",\"python\",\"java\",\"c++\",\"c\"}\n",
    "print(len(set1))"
   ]
  },
  {
   "cell_type": "markdown",
   "id": "d9364f31",
   "metadata": {},
   "source": [
    "# WAP to enter marks of 3 subjects from the user and store them in a dictionary . start with an empty dictionary and add one by one . using subject name as key and marks as value."
   ]
  },
  {
   "cell_type": "code",
   "execution_count": 22,
   "id": "15177ca4",
   "metadata": {},
   "outputs": [
    {
     "name": "stdout",
     "output_type": "stream",
     "text": [
      "Enter subject: math\n",
      "Enter the mark: 90\n",
      "Enter subject: science\n",
      "Enter the mark: 80\n",
      "Enter subject: english\n",
      "Enter the mark: 100\n",
      "{'math': 90, 'science': 80, 'english': 100}\n"
     ]
    }
   ],
   "source": [
    "dict1 = {}\n",
    "x1 = input(\"Enter subject: \")\n",
    "y1 = int(input(\"Enter the mark: \"))\n",
    "dict1.update({x1:y1})\n",
    "x2 = input(\"Enter subject: \")\n",
    "y2 = int(input(\"Enter the mark: \"))\n",
    "dict1.update({x2:y2})\n",
    "x3 = input(\"Enter subject: \")\n",
    "y3 = int(input(\"Enter the mark: \"))\n",
    "dict1.update({x3:y3})\n",
    "print(dict1)"
   ]
  },
  {
   "cell_type": "markdown",
   "id": "9b4d28e9",
   "metadata": {},
   "source": [
    "# Figure out the way to store 9 and 9.0 as separate values in the set ."
   ]
  },
  {
   "cell_type": "code",
   "execution_count": 26,
   "id": "625dcd9d",
   "metadata": {},
   "outputs": [
    {
     "name": "stdout",
     "output_type": "stream",
     "text": [
      "2\n",
      "{9, '9.0'}\n"
     ]
    }
   ],
   "source": [
    "set1 = {9,\"9.0\"}\n",
    "print(len(set1))\n",
    "print(set1)"
   ]
  },
  {
   "cell_type": "code",
   "execution_count": 28,
   "id": "cc6eb9e4",
   "metadata": {},
   "outputs": [
    {
     "name": "stdout",
     "output_type": "stream",
     "text": [
      "{('float', 9.0), ('int', 9)}\n",
      "2\n"
     ]
    }
   ],
   "source": [
    "set1 = {(\"float\",9.0),(\"int\",9)}\n",
    "print(set1)\n",
    "print(len(set1))"
   ]
  }
 ],
 "metadata": {
  "kernelspec": {
   "display_name": "Python 3 (ipykernel)",
   "language": "python",
   "name": "python3"
  },
  "language_info": {
   "codemirror_mode": {
    "name": "ipython",
    "version": 3
   },
   "file_extension": ".py",
   "mimetype": "text/x-python",
   "name": "python",
   "nbconvert_exporter": "python",
   "pygments_lexer": "ipython3",
   "version": "3.10.9"
  }
 },
 "nbformat": 4,
 "nbformat_minor": 5
}
