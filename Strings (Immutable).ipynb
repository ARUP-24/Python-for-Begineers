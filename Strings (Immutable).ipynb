{
 "cells": [
  {
   "cell_type": "markdown",
   "id": "3e7e66ab",
   "metadata": {},
   "source": [
    "# Next line"
   ]
  },
  {
   "cell_type": "code",
   "execution_count": 1,
   "id": "4d27e68a",
   "metadata": {},
   "outputs": [
    {
     "name": "stdout",
     "output_type": "stream",
     "text": [
      "arup \n",
      " ranjan \n",
      " dalai\n"
     ]
    }
   ],
   "source": [
    "str1 = \"arup \\n ranjan \\n dalai\"\n",
    "print(str1)"
   ]
  },
  {
   "cell_type": "markdown",
   "id": "9aeea9eb",
   "metadata": {},
   "source": [
    "# Concatination"
   ]
  },
  {
   "cell_type": "code",
   "execution_count": 2,
   "id": "39653dad",
   "metadata": {},
   "outputs": [
    {
     "name": "stdout",
     "output_type": "stream",
     "text": [
      "arup ranjan dalai\n"
     ]
    }
   ],
   "source": [
    "str1 = \"arup\"\n",
    "str2 = \"ranjan\"\n",
    "str3 = \"dalai\"\n",
    "print(str1+\" \"+str2+\" \"+str3)"
   ]
  },
  {
   "cell_type": "markdown",
   "id": "e8ea7953",
   "metadata": {},
   "source": [
    "# Length of string"
   ]
  },
  {
   "cell_type": "code",
   "execution_count": 3,
   "id": "cc8a5430",
   "metadata": {},
   "outputs": [
    {
     "name": "stdout",
     "output_type": "stream",
     "text": [
      "18\n"
     ]
    }
   ],
   "source": [
    "str1 = \"hello how are you?\"\n",
    "print(len(str1))"
   ]
  },
  {
   "cell_type": "markdown",
   "id": "9b1df604",
   "metadata": {},
   "source": [
    "# Slicing"
   ]
  },
  {
   "cell_type": "code",
   "execution_count": 6,
   "id": "a13d55ae",
   "metadata": {},
   "outputs": [
    {
     "name": "stdout",
     "output_type": "stream",
     "text": [
      "arup ra\n",
      "prna\n"
     ]
    }
   ],
   "source": [
    "str1 = \"arup ranjan dalai\"\n",
    "print(str1[0:7])\n",
    "print(str1[3:10:2])"
   ]
  },
  {
   "cell_type": "markdown",
   "id": "eb2a5964",
   "metadata": {},
   "source": [
    "# Strinf functions"
   ]
  },
  {
   "cell_type": "markdown",
   "id": "7c819be7",
   "metadata": {},
   "source": [
    "# Ends with #return tre if string end with sunstring"
   ]
  },
  {
   "cell_type": "code",
   "execution_count": 7,
   "id": "12ff223b",
   "metadata": {},
   "outputs": [
    {
     "name": "stdout",
     "output_type": "stream",
     "text": [
      "True\n"
     ]
    }
   ],
   "source": [
    "str1 = \"arup ranjan dalai\"\n",
    "str1 = str1.endswith(\"ai\")\n",
    "print(str1)"
   ]
  },
  {
   "cell_type": "markdown",
   "id": "df7cca44",
   "metadata": {},
   "source": [
    "# capitalize , upper , lower"
   ]
  },
  {
   "cell_type": "code",
   "execution_count": 8,
   "id": "82b7c570",
   "metadata": {},
   "outputs": [
    {
     "name": "stdout",
     "output_type": "stream",
     "text": [
      "ARUP RANJAN DALAI\n",
      "arup ranjan dalai\n",
      "Arup ranjan dalai\n"
     ]
    }
   ],
   "source": [
    "str1 = \"arup ranjan dalai\"\n",
    "a1 = str1.upper()\n",
    "a2 = str1.lower()\n",
    "a3 = str1.capitalize()\n",
    "print(a1)\n",
    "print(a2)\n",
    "print(a3)"
   ]
  },
  {
   "cell_type": "markdown",
   "id": "9834c4b4",
   "metadata": {},
   "source": [
    "# Replace # replace the occurance element"
   ]
  },
  {
   "cell_type": "code",
   "execution_count": 12,
   "id": "bc3625ec",
   "metadata": {},
   "outputs": [
    {
     "name": "stdout",
     "output_type": "stream",
     "text": [
      "aoup oanjan dalai\n"
     ]
    }
   ],
   "source": [
    "str1 = \"arup ranjan dalai\"\n",
    "str1 = str1.replace(\"r\",\"o\")\n",
    "print(str1)"
   ]
  },
  {
   "cell_type": "markdown",
   "id": "f95df964",
   "metadata": {},
   "source": [
    "# Find #return 1st index of 1st occurence"
   ]
  },
  {
   "cell_type": "code",
   "execution_count": 11,
   "id": "bd7173d1",
   "metadata": {},
   "outputs": [
    {
     "name": "stdout",
     "output_type": "stream",
     "text": [
      "12\n",
      "12\n"
     ]
    }
   ],
   "source": [
    "str1 = \"arup ranjan dalai\"\n",
    "a1 = str1.find(\"d\")\n",
    "a2 = str1.find(\"dalai\")\n",
    "print(a1)\n",
    "print(a2)"
   ]
  },
  {
   "cell_type": "markdown",
   "id": "a6a087a8",
   "metadata": {},
   "source": [
    "# Count #counts the occurence of sunstring"
   ]
  },
  {
   "cell_type": "code",
   "execution_count": 13,
   "id": "9640fb3f",
   "metadata": {},
   "outputs": [
    {
     "name": "stdout",
     "output_type": "stream",
     "text": [
      "5\n"
     ]
    }
   ],
   "source": [
    "str1 = \"arup ranjan dalai\"\n",
    "a1 = str1.count(\"a\")\n",
    "print(a1)"
   ]
  },
  {
   "cell_type": "markdown",
   "id": "5d3bc147",
   "metadata": {},
   "source": [
    "# WAP to check if a number enterd by the user is odd or even"
   ]
  },
  {
   "cell_type": "code",
   "execution_count": 15,
   "id": "64215eae",
   "metadata": {},
   "outputs": [
    {
     "name": "stdout",
     "output_type": "stream",
     "text": [
      "Enter the number: 6\n",
      "Even num\n"
     ]
    }
   ],
   "source": [
    "num = int(input(\"Enter the number: \"))\n",
    "if (num%2==0):\n",
    "    print(\"Even num\")\n",
    "else:\n",
    "    print(\"Odd num\")"
   ]
  },
  {
   "cell_type": "markdown",
   "id": "78324658",
   "metadata": {},
   "source": [
    "# WAP to find out the greatest of 4 numbers enterd by the user. "
   ]
  },
  {
   "cell_type": "code",
   "execution_count": 17,
   "id": "99deaff7",
   "metadata": {},
   "outputs": [
    {
     "name": "stdout",
     "output_type": "stream",
     "text": [
      "b is greatest among all\n"
     ]
    }
   ],
   "source": [
    "a = 2\n",
    "b = 12\n",
    "c = 4\n",
    "d = 3\n",
    "if (a>b and a>c and a>d):\n",
    "    print(\"a is greatest among all\")\n",
    "elif (b>c and b>d):\n",
    "    print(\"b is greatest among all\")\n",
    "elif (c>d):\n",
    "    print(\"c is greatest among all\")\n",
    "else:\n",
    "    print(\"d is greatest among all\")"
   ]
  },
  {
   "cell_type": "markdown",
   "id": "02a3d944",
   "metadata": {},
   "source": [
    "# WAP to check if anumber is a multiple of 7 or not."
   ]
  },
  {
   "cell_type": "code",
   "execution_count": 19,
   "id": "d5944433",
   "metadata": {},
   "outputs": [
    {
     "name": "stdout",
     "output_type": "stream",
     "text": [
      "enter the number: 21\n",
      "multiple of 7\n"
     ]
    }
   ],
   "source": [
    "num = int(input(\"enter the number: \"))\n",
    "if (num%7==0):\n",
    "    print(\"multiple of 7\")\n",
    "else:\n",
    "    print(\"Not a multiple of 7\")"
   ]
  }
 ],
 "metadata": {
  "kernelspec": {
   "display_name": "Python 3 (ipykernel)",
   "language": "python",
   "name": "python3"
  },
  "language_info": {
   "codemirror_mode": {
    "name": "ipython",
    "version": 3
   },
   "file_extension": ".py",
   "mimetype": "text/x-python",
   "name": "python",
   "nbconvert_exporter": "python",
   "pygments_lexer": "ipython3",
   "version": "3.10.9"
  }
 },
 "nbformat": 4,
 "nbformat_minor": 5
}
