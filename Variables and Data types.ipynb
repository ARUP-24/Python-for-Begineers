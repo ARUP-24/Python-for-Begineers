{
 "cells": [
  {
   "cell_type": "code",
   "execution_count": 1,
   "id": "b458a502",
   "metadata": {},
   "outputs": [
    {
     "name": "stdout",
     "output_type": "stream",
     "text": [
      "@@@@@@\n"
     ]
    }
   ],
   "source": [
    "a = 2\n",
    "b = 3\n",
    "txt = \"@\"\n",
    "print(a*b*txt)"
   ]
  },
  {
   "cell_type": "markdown",
   "id": "5e76f104",
   "metadata": {},
   "source": [
    "# Result of (A//B) is same as floor(A/B)"
   ]
  },
  {
   "cell_type": "code",
   "execution_count": 6,
   "id": "11ed0cc6",
   "metadata": {},
   "outputs": [
    {
     "name": "stdout",
     "output_type": "stream",
     "text": [
      "2\n"
     ]
    }
   ],
   "source": [
    "A,B = 12,5\n",
    "c = A//B\n",
    "print(c)"
   ]
  },
  {
   "cell_type": "code",
   "execution_count": 7,
   "id": "207107be",
   "metadata": {},
   "outputs": [
    {
     "name": "stdout",
     "output_type": "stream",
     "text": [
      "-3\n"
     ]
    }
   ],
   "source": [
    "A,B = -12,5\n",
    "c = A//B\n",
    "print(c)"
   ]
  },
  {
   "cell_type": "code",
   "execution_count": 8,
   "id": "317fc174",
   "metadata": {},
   "outputs": [
    {
     "name": "stdout",
     "output_type": "stream",
     "text": [
      "-3\n"
     ]
    }
   ],
   "source": [
    "A,B = 12,-5\n",
    "c = A//B\n",
    "print(c)"
   ]
  },
  {
   "cell_type": "markdown",
   "id": "7131d362",
   "metadata": {},
   "source": [
    "Remainder is negative when demoninator is negative"
   ]
  },
  {
   "cell_type": "code",
   "execution_count": 9,
   "id": "ce1a0191",
   "metadata": {},
   "outputs": [
    {
     "name": "stdout",
     "output_type": "stream",
     "text": [
      "2\n"
     ]
    }
   ],
   "source": [
    "A,B = 12,5\n",
    "c = A%B\n",
    "print(c)"
   ]
  },
  {
   "cell_type": "code",
   "execution_count": 10,
   "id": "695a6662",
   "metadata": {},
   "outputs": [
    {
     "name": "stdout",
     "output_type": "stream",
     "text": [
      "3\n"
     ]
    }
   ],
   "source": [
    "A,B = -12,5\n",
    "c = A%B\n",
    "print(c) #5-2=3"
   ]
  },
  {
   "cell_type": "code",
   "execution_count": 11,
   "id": "e505bea6",
   "metadata": {},
   "outputs": [
    {
     "name": "stdout",
     "output_type": "stream",
     "text": [
      "-3\n"
     ]
    }
   ],
   "source": [
    "A,B = 12,-5\n",
    "c = A%B\n",
    "print(c) #2-5=-3"
   ]
  },
  {
   "cell_type": "markdown",
   "id": "52da664d",
   "metadata": {},
   "source": [
    "Single line if / ternary operator"
   ]
  },
  {
   "cell_type": "code",
   "execution_count": 15,
   "id": "c70c8fb2",
   "metadata": {},
   "outputs": [
    {
     "name": "stdout",
     "output_type": "stream",
     "text": [
      "Enter your favourite dish: fish\n",
      "yes\n"
     ]
    }
   ],
   "source": [
    "# <var> = <var1> if <condition> else <var2>\n",
    "\n",
    "food = input(\"Enter your favourite dish: \")\n",
    "eat = \"yes\" if food == \"fish\" else \"no\"\n",
    "print(eat)"
   ]
  },
  {
   "cell_type": "code",
   "execution_count": 17,
   "id": "65bb9fce",
   "metadata": {},
   "outputs": [
    {
     "name": "stdout",
     "output_type": "stream",
     "text": [
      "Enter your avirite dish: chicken\n",
      "yes\n"
     ]
    }
   ],
   "source": [
    "#<str1> if <condition> else <str2>\n",
    "\n",
    "food = input(\"Enter your avirite dish: \")\n",
    "print(\"yes\") if food == \"chicken\" else print(\"no\")"
   ]
  },
  {
   "cell_type": "markdown",
   "id": "69c60894",
   "metadata": {},
   "source": [
    "Clever if / ternary operator"
   ]
  },
  {
   "cell_type": "code",
   "execution_count": 19,
   "id": "009df017",
   "metadata": {},
   "outputs": [
    {
     "name": "stdout",
     "output_type": "stream",
     "text": [
      "Enter your age: 18\n",
      "you can\n"
     ]
    }
   ],
   "source": [
    "#<var> = (False_val,True_val) [condition]\n",
    "\n",
    "age = int(input(\"Enter your age: \"))\n",
    "vote = (\"you can't\",\"you can\") [age>=18]\n",
    "print(vote)"
   ]
  },
  {
   "cell_type": "code",
   "execution_count": 20,
   "id": "755e437f",
   "metadata": {},
   "outputs": [
    {
     "name": "stdout",
     "output_type": "stream",
     "text": [
      "Enter your age: 2\n",
      "you can't\n"
     ]
    }
   ],
   "source": [
    "age = int(input(\"Enter your age: \"))\n",
    "if (age>=18):\n",
    "    print(\"you can\")\n",
    "else:\n",
    "    print(\"you can't\")"
   ]
  },
  {
   "cell_type": "code",
   "execution_count": 24,
   "id": "68c28399",
   "metadata": {},
   "outputs": [
    {
     "name": "stdout",
     "output_type": "stream",
     "text": [
      "False\n",
      "True\n"
     ]
    }
   ],
   "source": [
    "a = 12\n",
    "b = 13\n",
    "print(a==b)\n",
    "print(a!=b)"
   ]
  },
  {
   "cell_type": "code",
   "execution_count": 27,
   "id": "be289513",
   "metadata": {},
   "outputs": [
    {
     "name": "stdout",
     "output_type": "stream",
     "text": [
      "False\n"
     ]
    }
   ],
   "source": [
    "a = True\n",
    "print(not a)"
   ]
  },
  {
   "cell_type": "code",
   "execution_count": 29,
   "id": "3330bb41",
   "metadata": {},
   "outputs": [
    {
     "name": "stdout",
     "output_type": "stream",
     "text": [
      "True\n"
     ]
    }
   ],
   "source": [
    "a =\"arup\"\n",
    "b = \"som\"\n",
    "print(a!=b)"
   ]
  },
  {
   "cell_type": "code",
   "execution_count": 30,
   "id": "6b1b48a3",
   "metadata": {},
   "outputs": [
    {
     "name": "stdout",
     "output_type": "stream",
     "text": [
      "32\n"
     ]
    }
   ],
   "source": [
    "a = 2\n",
    "b = 5\n",
    "print(a**b)"
   ]
  }
 ],
 "metadata": {
  "kernelspec": {
   "display_name": "Python 3 (ipykernel)",
   "language": "python",
   "name": "python3"
  },
  "language_info": {
   "codemirror_mode": {
    "name": "ipython",
    "version": 3
   },
   "file_extension": ".py",
   "mimetype": "text/x-python",
   "name": "python",
   "nbconvert_exporter": "python",
   "pygments_lexer": "ipython3",
   "version": "3.10.9"
  }
 },
 "nbformat": 4,
 "nbformat_minor": 5
}
