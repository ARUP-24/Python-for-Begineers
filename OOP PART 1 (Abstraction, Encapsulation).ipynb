{
 "cells": [
  {
   "cell_type": "markdown",
   "id": "d11d6f06",
   "metadata": {},
   "source": [
    "# Class :- class is the blueprint of object.\n",
    "# Object :- object is the instance of class."
   ]
  },
  {
   "cell_type": "markdown",
   "id": "8dd265d4",
   "metadata": {},
   "source": [
    "# Constructor:- self parameter is a reference to the current instance of the class, and is used to acess variables that belongs to the class"
   ]
  },
  {
   "cell_type": "code",
   "execution_count": 3,
   "id": "d1c48473",
   "metadata": {},
   "outputs": [
    {
     "name": "stdout",
     "output_type": "stream",
     "text": [
      "arup\n",
      "KIIT\n",
      "90\n"
     ]
    }
   ],
   "source": [
    "class college:\n",
    "    university = \"KIIT\"\n",
    "    def __init__(self,name,marks):\n",
    "        self.name = name\n",
    "        self.marks = marks\n",
    "        \n",
    "student = college(\"arup\",90)\n",
    "print(student.name)\n",
    "print(student.university)\n",
    "print(student.marks)"
   ]
  },
  {
   "cell_type": "markdown",
   "id": "2e902178",
   "metadata": {},
   "source": [
    "# Methods"
   ]
  },
  {
   "cell_type": "code",
   "execution_count": 5,
   "id": "9ff32647",
   "metadata": {},
   "outputs": [
    {
     "name": "stdout",
     "output_type": "stream",
     "text": [
      "arup\n",
      "welcome to college\n",
      "90\n"
     ]
    }
   ],
   "source": [
    "class college:\n",
    "    university = \"KIIT\"\n",
    "    def __init__(self,name,marks): #param. constructor\n",
    "        self.name = name\n",
    "        self.marks = marks\n",
    "    def welcome(self): #method\n",
    "        print(\"welcome to college\")\n",
    "    def get_marks(self): #method\n",
    "        print(self.marks)\n",
    "        \n",
    "student = college(\"arup\",90)\n",
    "print(student.name)\n",
    "student.welcome()\n",
    "student.get_marks()"
   ]
  },
  {
   "cell_type": "markdown",
   "id": "d29c362d",
   "metadata": {},
   "source": [
    "# Static Method :- method that don't use the self parameter"
   ]
  },
  {
   "cell_type": "code",
   "execution_count": 6,
   "id": "a0e5a948",
   "metadata": {},
   "outputs": [
    {
     "name": "stdout",
     "output_type": "stream",
     "text": [
      "arup\n"
     ]
    }
   ],
   "source": [
    "class student:\n",
    "    @staticmethod\n",
    "    def name():\n",
    "        print(\"arup\")\n",
    "\n",
    "stud = student()\n",
    "stud.name()"
   ]
  },
  {
   "cell_type": "markdown",
   "id": "21a8161f",
   "metadata": {},
   "source": [
    "# Abstraction:- Hide the implementation details of class and only show the essential features to the user."
   ]
  },
  {
   "cell_type": "code",
   "execution_count": 9,
   "id": "d81d83ac",
   "metadata": {},
   "outputs": [
    {
     "name": "stdout",
     "output_type": "stream",
     "text": [
      "Car started..\n"
     ]
    }
   ],
   "source": [
    "class car:\n",
    "    def start(self):\n",
    "        self.clutch = True\n",
    "        self.acl = True\n",
    "        print(\"Car started..\")\n",
    "        \n",
    "car1 = car()\n",
    "car1.start()"
   ]
  },
  {
   "cell_type": "markdown",
   "id": "918c3cf9",
   "metadata": {},
   "source": [
    "# Encapsulation:- Wrapping data and functions into a single unit (object).\n",
    "# data + function"
   ]
  },
  {
   "cell_type": "markdown",
   "id": "e9cc7920",
   "metadata": {},
   "source": [
    "# find the average marks of a student using oops concept."
   ]
  },
  {
   "cell_type": "code",
   "execution_count": 10,
   "id": "3dfcabc9",
   "metadata": {},
   "outputs": [
    {
     "name": "stdout",
     "output_type": "stream",
     "text": [
      "college name: \n",
      "KIIT\n",
      "\n",
      "student name: \n",
      "arup\n",
      "\n",
      "marks: \n",
      "[98, 99, 97]\n",
      "\n",
      "average marks: \n",
      "98.0\n"
     ]
    }
   ],
   "source": [
    "class student: \n",
    "    college = \"KIIT\" \n",
    "    \n",
    "    def __init__(self, name, marks1, marks2, marks3): \n",
    "        self.name = name  \n",
    "        self.avgmarks = (marks1 + marks2 + marks3) / 3 \n",
    "        self.marks = [marks1, marks2, marks3]\n",
    "\n",
    "s1 = student(\"arup\", 98, 99, 97) \n",
    "print(\"college name: \")\n",
    "print(s1.college) \n",
    "print()\n",
    "print(\"student name: \")\n",
    "print(s1.name)\n",
    "print()\n",
    "print(\"marks: \")\n",
    "print(s1.marks)\n",
    "print()\n",
    "print(\"average marks: \")\n",
    "print(s1.avgmarks)"
   ]
  },
  {
   "cell_type": "markdown",
   "id": "ebf42d96",
   "metadata": {},
   "source": [
    "# Create Account class with 2 attributes - balance and account no. \n",
    "# Create methods for debit , credit and print the balance."
   ]
  },
  {
   "cell_type": "code",
   "execution_count": 11,
   "id": "4712ba9f",
   "metadata": {},
   "outputs": [
    {
     "name": "stdout",
     "output_type": "stream",
     "text": [
      "Debit amount:  80000 Balance amount:  20000\n",
      "Credit amount:  20000 Balance amount:  40000\n"
     ]
    }
   ],
   "source": [
    "class Account:\n",
    "    def __init__(self,balance,account_no):\n",
    "        self.bal = balance\n",
    "        self.acc = account_no\n",
    "    \n",
    "    def debit(self,debit_amount):\n",
    "        self.bal -= debit_amount\n",
    "        print(\"Debit amount: \",debit_amount,\"Balance amount: \",self.bal)\n",
    "        \n",
    "    def credit(self,credit_amount):\n",
    "        self.bal += credit_amount\n",
    "        print(\"Credit amount: \",credit_amount,\"Balance amount: \",self.bal)\n",
    "        \n",
    "\n",
    "acc = Account(100000,2409)\n",
    "acc.debit(80000)\n",
    "acc.credit(20000)"
   ]
  },
  {
   "cell_type": "markdown",
   "id": "d827ab2a",
   "metadata": {},
   "source": [
    "# Delete keyword"
   ]
  },
  {
   "cell_type": "code",
   "execution_count": 13,
   "id": "0ff23e85",
   "metadata": {},
   "outputs": [
    {
     "name": "stdout",
     "output_type": "stream",
     "text": [
      "arup\n"
     ]
    },
    {
     "ename": "NameError",
     "evalue": "name 'std1' is not defined",
     "output_type": "error",
     "traceback": [
      "\u001b[1;31m---------------------------------------------------------------------------\u001b[0m",
      "\u001b[1;31mNameError\u001b[0m                                 Traceback (most recent call last)",
      "Cell \u001b[1;32mIn[13], line 8\u001b[0m\n\u001b[0;32m      6\u001b[0m \u001b[38;5;28mprint\u001b[39m(std1\u001b[38;5;241m.\u001b[39mname)\n\u001b[0;32m      7\u001b[0m \u001b[38;5;28;01mdel\u001b[39;00m std1\n\u001b[1;32m----> 8\u001b[0m \u001b[38;5;28mprint\u001b[39m(\u001b[43mstd1\u001b[49m\u001b[38;5;241m.\u001b[39mname)\n",
      "\u001b[1;31mNameError\u001b[0m: name 'std1' is not defined"
     ]
    }
   ],
   "source": [
    "class student:\n",
    "    def __init__(self,name):\n",
    "        self.name = name\n",
    "        \n",
    "std1 = student(\"arup\")\n",
    "print(std1.name)\n",
    "del std1\n",
    "print(std1.name)"
   ]
  }
 ],
 "metadata": {
  "kernelspec": {
   "display_name": "Python 3 (ipykernel)",
   "language": "python",
   "name": "python3"
  },
  "language_info": {
   "codemirror_mode": {
    "name": "ipython",
    "version": 3
   },
   "file_extension": ".py",
   "mimetype": "text/x-python",
   "name": "python",
   "nbconvert_exporter": "python",
   "pygments_lexer": "ipython3",
   "version": "3.10.9"
  }
 },
 "nbformat": 4,
 "nbformat_minor": 5
}
