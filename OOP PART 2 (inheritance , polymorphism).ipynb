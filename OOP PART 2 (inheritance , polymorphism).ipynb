{
 "cells": [
  {
   "cell_type": "markdown",
   "id": "533ea522",
   "metadata": {},
   "source": [
    "# public:- Things which we can access outside the class\n",
    "# private:- things which we can't acccess outsuide the class"
   ]
  },
  {
   "cell_type": "markdown",
   "id": "bb5b83ef",
   "metadata": {},
   "source": [
    "# Public"
   ]
  },
  {
   "cell_type": "code",
   "execution_count": 2,
   "id": "065089b1",
   "metadata": {},
   "outputs": [
    {
     "name": "stdout",
     "output_type": "stream",
     "text": [
      "123\n"
     ]
    },
    {
     "ename": "AttributeError",
     "evalue": "'Account' object has no attribute '__account_password'",
     "output_type": "error",
     "traceback": [
      "\u001b[1;31m---------------------------------------------------------------------------\u001b[0m",
      "\u001b[1;31mAttributeError\u001b[0m                            Traceback (most recent call last)",
      "Cell \u001b[1;32mIn[2], line 7\u001b[0m\n\u001b[0;32m      5\u001b[0m men \u001b[38;5;241m=\u001b[39m Account(\u001b[38;5;241m123\u001b[39m,\u001b[38;5;241m456\u001b[39m)\n\u001b[0;32m      6\u001b[0m \u001b[38;5;28mprint\u001b[39m(men\u001b[38;5;241m.\u001b[39maccount_no)\n\u001b[1;32m----> 7\u001b[0m \u001b[38;5;28mprint\u001b[39m(\u001b[43mmen\u001b[49m\u001b[38;5;241;43m.\u001b[39;49m\u001b[43m__account_password\u001b[49m)\n",
      "\u001b[1;31mAttributeError\u001b[0m: 'Account' object has no attribute '__account_password'"
     ]
    }
   ],
   "source": [
    "class Account:\n",
    "    def __init__(self,account_no,account_password):\n",
    "        self.account_no = account_no\n",
    "        self.__account_password = account_password #private object\n",
    "men = Account(123,456)\n",
    "print(men.account_no)\n",
    "print(men.__account_password)"
   ]
  },
  {
   "cell_type": "code",
   "execution_count": 4,
   "id": "7735922f",
   "metadata": {},
   "outputs": [
    {
     "name": "stdout",
     "output_type": "stream",
     "text": [
      "123\n",
      "456\n"
     ]
    },
    {
     "ename": "AttributeError",
     "evalue": "'Account' object has no attribute '__hello'",
     "output_type": "error",
     "traceback": [
      "\u001b[1;31m---------------------------------------------------------------------------\u001b[0m",
      "\u001b[1;31mAttributeError\u001b[0m                            Traceback (most recent call last)",
      "Cell \u001b[1;32mIn[4], line 10\u001b[0m\n\u001b[0;32m      8\u001b[0m \u001b[38;5;28mprint\u001b[39m(men\u001b[38;5;241m.\u001b[39maccount_no)\n\u001b[0;32m      9\u001b[0m \u001b[38;5;28mprint\u001b[39m(men\u001b[38;5;241m.\u001b[39maccount_password)\n\u001b[1;32m---> 10\u001b[0m \u001b[43mmen\u001b[49m\u001b[38;5;241;43m.\u001b[39;49m\u001b[43m__hello\u001b[49m()\n",
      "\u001b[1;31mAttributeError\u001b[0m: 'Account' object has no attribute '__hello'"
     ]
    }
   ],
   "source": [
    "class Account:\n",
    "    def __init__(self,account_no,account_password):\n",
    "        self.account_no = account_no\n",
    "        self.account_password = account_password\n",
    "    def __hello(self): #private method\n",
    "        print(\"hello world\")\n",
    "men = Account(123,456)\n",
    "print(men.account_no)\n",
    "print(men.account_password)\n",
    "men.__hello()"
   ]
  },
  {
   "cell_type": "markdown",
   "id": "0d72e2cc",
   "metadata": {},
   "source": [
    "# Inheritance :- When one class (child,derived) dervies the properties and method of another class (parents,base)"
   ]
  },
  {
   "cell_type": "markdown",
   "id": "e7603e98",
   "metadata": {},
   "source": [
    "# Single Inheritance "
   ]
  },
  {
   "cell_type": "code",
   "execution_count": 11,
   "id": "695987da",
   "metadata": {},
   "outputs": [
    {
     "name": "stdout",
     "output_type": "stream",
     "text": [
      "mustang\n",
      "black is a Nice color\n",
      "6000000\n"
     ]
    }
   ],
   "source": [
    "class car_color: #parent / base class\n",
    "    def color(self):\n",
    "        self.color = \"black\"\n",
    "        print(self.color,\"is a Nice color\")\n",
    "class car(car_color): #dervied / child class\n",
    "    def __init__(self,name,price):\n",
    "        self.name = name\n",
    "        self.price = price\n",
    "        \n",
    "car1 = car(\"mustang\",6000000)\n",
    "print(car1.name)\n",
    "car1.color()\n",
    "print(car1.price)"
   ]
  },
  {
   "cell_type": "markdown",
   "id": "4ac01a6a",
   "metadata": {},
   "source": [
    "# Multi-level Inheritance"
   ]
  },
  {
   "cell_type": "code",
   "execution_count": 13,
   "id": "94f203ec",
   "metadata": {},
   "outputs": [
    {
     "name": "stdout",
     "output_type": "stream",
     "text": [
      "Mustang GT is a sports car\n",
      "black is a Nice color\n",
      "6000000\n"
     ]
    }
   ],
   "source": [
    "class car_color: #parent / base class\n",
    "    def color(self):\n",
    "        self.color = \"black\"\n",
    "        print(self.color,\"is a Nice color\")\n",
    "class car(car_color): #dervied / child class /parent\n",
    "    def name(self):\n",
    "        self.name = \"Mustang GT\"\n",
    "        print(self.name,\"is a sports car\")\n",
    "class price(car): #dervied / child class\n",
    "    def __init__(self,price):\n",
    "        self.price = price\n",
    "        \n",
    "car1 = price(6000000)\n",
    "car1.name()\n",
    "car1.color()\n",
    "print(car1.price)"
   ]
  },
  {
   "cell_type": "markdown",
   "id": "59345ddf",
   "metadata": {},
   "source": [
    "# Multiple Inheritance"
   ]
  },
  {
   "cell_type": "code",
   "execution_count": 18,
   "id": "9a925c03",
   "metadata": {},
   "outputs": [
    {
     "name": "stdout",
     "output_type": "stream",
     "text": [
      "50\n",
      "hello\n",
      "world\n"
     ]
    }
   ],
   "source": [
    "class a: #parent / base class\n",
    "    def hello(self):\n",
    "        print(\"hello\")\n",
    "class b: #parent / base class\n",
    "    def world(self):\n",
    "        print(\"world\")\n",
    "class c(a,b): #dervied / child class\n",
    "    def __init__(self,a,b):\n",
    "        self.a = a\n",
    "        self.b = b\n",
    "        self.sum = self.a + self.b\n",
    "num = c(20,30)\n",
    "print(num.sum)\n",
    "num.hello()\n",
    "num.world()"
   ]
  },
  {
   "cell_type": "markdown",
   "id": "185a26fe",
   "metadata": {},
   "source": [
    "# Super Method:- Super() method is used to access methods of the parent class."
   ]
  },
  {
   "cell_type": "code",
   "execution_count": 3,
   "id": "88ce262f",
   "metadata": {},
   "outputs": [
    {
     "name": "stdout",
     "output_type": "stream",
     "text": [
      "fourtuner\n",
      "balck\n",
      "GR\n"
     ]
    }
   ],
   "source": [
    "class car:\n",
    "    def __init__(self,color,model):\n",
    "        self.color = color\n",
    "        self.model = model\n",
    "class Toyotacar(car):\n",
    "    def __init__(self,name):\n",
    "        self.name = name\n",
    "        super().__init__(\"balck\",\"GR\")\n",
    "car1 = Toyotacar(\"fourtuner\")\n",
    "print(car1.name)\n",
    "print(car1.color)\n",
    "print(car1.model)"
   ]
  },
  {
   "cell_type": "markdown",
   "id": "89df10cd",
   "metadata": {},
   "source": [
    "# Class Method:- A class method is bound to the class and recives the class as an implict first arguments."
   ]
  },
  {
   "cell_type": "code",
   "execution_count": 6,
   "id": "1897704d",
   "metadata": {},
   "outputs": [
    {
     "name": "stdout",
     "output_type": "stream",
     "text": [
      "KIIT\n",
      "KIIT\n"
     ]
    }
   ],
   "source": [
    "class college:\n",
    "    name = \"SOA\"\n",
    "    @classmethod  #classmethod\n",
    "    def col_name(cls,name):\n",
    "        cls.name = name\n",
    "col1 = college()\n",
    "col1.col_name(\"KIIT\")\n",
    "print(col1.name)\n",
    "print(college.name)"
   ]
  },
  {
   "cell_type": "code",
   "execution_count": 17,
   "id": "72015b51",
   "metadata": {},
   "outputs": [
    {
     "name": "stdout",
     "output_type": "stream",
     "text": [
      "KIIT\n",
      "KIIT\n"
     ]
    }
   ],
   "source": [
    "class college:\n",
    "    f_name = \"SOA\"\n",
    "    @classmethod  #classmethod\n",
    "    def __init__(cls,f_name):\n",
    "        cls.f_name = f_name\n",
    "col1 = college(\"KIIT\")\n",
    "print(col1.f_name)\n",
    "print(college.f_name)"
   ]
  },
  {
   "cell_type": "markdown",
   "id": "fa115ed7",
   "metadata": {},
   "source": [
    "# Property:- \"we use property on any method in the class to use method as a proprty\""
   ]
  },
  {
   "cell_type": "code",
   "execution_count": 25,
   "id": "3008f247",
   "metadata": {},
   "outputs": [
    {
     "name": "stdout",
     "output_type": "stream",
     "text": [
      "90.0\n",
      "91.0\n",
      "91.0\n"
     ]
    }
   ],
   "source": [
    "class result:\n",
    "    def __init__(self,phys,chem,math):\n",
    "        self.phys = phys\n",
    "        self.chem = chem\n",
    "        self.math = math\n",
    "    @property\n",
    "    def showaverg(self):\n",
    "        return (self.phys+self.chem+self.math)/3\n",
    "stud1 = result(90,89,91)\n",
    "print(stud1.showaverg)\n",
    "stud1.chem = 92\n",
    "print(stud1.showaverg)\n",
    "print(stud1.showaverg)"
   ]
  },
  {
   "cell_type": "markdown",
   "id": "37296368",
   "metadata": {},
   "source": [
    "# Ploymorphism :- (operator overloading)\n",
    "\n",
    "# When the same operator is allowed to have different meaning according to the context."
   ]
  },
  {
   "cell_type": "code",
   "execution_count": 10,
   "id": "a4b76e7f",
   "metadata": {},
   "outputs": [
    {
     "name": "stdout",
     "output_type": "stream",
     "text": [
      "First Number:  3\n",
      "second Number:  4\n",
      "\n",
      "Addition of two numbers:  7\n",
      "\n",
      "Subtraction of two numbers:  -1\n",
      "\n",
      "Multiplication of two numbers:  12\n",
      "\n",
      "Modulo of two numbers:  3\n",
      "\n",
      "Division of two numbers:  0.75\n",
      "\n",
      "a is greater than b:  False\n",
      "\n",
      "a is lesser than b:  True\n"
     ]
    }
   ],
   "source": [
    "class number:\n",
    "    def __init__(self,num):\n",
    "        self.num = num\n",
    "        \n",
    "    def shownum(self):\n",
    "        return self.num\n",
    "        \n",
    "    def __add__(self,num2):\n",
    "        add = self.num + num2.num\n",
    "        return number(add)\n",
    "    \n",
    "    def __sub__(self,num2):\n",
    "        sub = self.num - num2.num\n",
    "        return number(sub)\n",
    "    \n",
    "    def __mul__(self,num2):\n",
    "        mul = self.num * num2.num\n",
    "        return number(mul)\n",
    "    \n",
    "    def __mod__(self,num2):\n",
    "        mod = self.num % num2.num\n",
    "        return number(mod)\n",
    "    \n",
    "    def __truediv__(self,num2):\n",
    "        div = self.num / num2.num\n",
    "        return number(div)\n",
    "    \n",
    "    def __gt__(self,num2):\n",
    "        return self.num > num2.num\n",
    "    \n",
    "    def __lt__(self,num2):\n",
    "        return self.num < num2.num\n",
    "    \n",
    "num1 = number(3)\n",
    "print(\"First Number: \",num1.num)\n",
    "num2 = number(4)\n",
    "print(\"second Number: \",num2.num)\n",
    "print()\n",
    "num3 = num1 + num2\n",
    "print(\"Addition of two numbers: \",num3.shownum())\n",
    "print()\n",
    "num3 = num1 - num2\n",
    "print(\"Subtraction of two numbers: \",num3.shownum())\n",
    "num3 = num1 * num2\n",
    "print()\n",
    "print(\"Multiplication of two numbers: \",num3.shownum())\n",
    "print()\n",
    "num3 = num1 % num2\n",
    "print(\"Modulo of two numbers: \",num3.shownum())\n",
    "print()\n",
    "num3 = num1 / num2\n",
    "print(\"Division of two numbers: \",num3.shownum())\n",
    "print()\n",
    "num3 = num1 > num2\n",
    "print(\"a is greater than b: \",num3)\n",
    "print()\n",
    "num3 = num1 < num2\n",
    "print(\"a is lesser than b: \",num3)"
   ]
  },
  {
   "cell_type": "markdown",
   "id": "bedd36ee",
   "metadata": {},
   "source": [
    "# Define a circle class to create a circle with radius using constructor.\n",
    "# Define an area() method of the class which calculates the area of the circle . #22/7*r**2\n",
    "# Define an area() method of the class which calculates the perimeter of the circle . # 2*22/7*r"
   ]
  },
  {
   "cell_type": "code",
   "execution_count": 2,
   "id": "17328476",
   "metadata": {},
   "outputs": [
    {
     "name": "stdout",
     "output_type": "stream",
     "text": [
      "28.285714285714285\n",
      "18.857142857142858\n"
     ]
    }
   ],
   "source": [
    "class circle:\n",
    "    def __init__(self,r):\n",
    "        self.radius = r\n",
    "    def area(self):\n",
    "        print((22/7)*self.radius**2)\n",
    "    def perimeter(self):\n",
    "        print(2*(22/7)*self.radius)\n",
    "\n",
    "cir = circle(3)\n",
    "cir.area()\n",
    "cir.perimeter()        "
   ]
  },
  {
   "cell_type": "markdown",
   "id": "b651a492",
   "metadata": {},
   "source": [
    "# Define a employee class with attributes role , department and salary .this class also has a show details() method.\n",
    "\n",
    "# Create an Engineer class that inherits properties from employee and has additional attributes : name and age. "
   ]
  },
  {
   "cell_type": "code",
   "execution_count": 5,
   "id": "e4209330",
   "metadata": {},
   "outputs": [
    {
     "name": "stdout",
     "output_type": "stream",
     "text": [
      "Arup\n",
      "21\n",
      "Role =  Junior_engineer\n",
      "Department =  CSE\n",
      "Salary =  1,00,000\n"
     ]
    }
   ],
   "source": [
    "class Employee:\n",
    "    def __init__(self,role,department,salary):\n",
    "        self.role = role\n",
    "        self.department = department\n",
    "        self.salary = salary\n",
    "    def showdetails(self):\n",
    "        print(\"Role = \",self.role)\n",
    "        print(\"Department = \",self.department)\n",
    "        print(\"Salary = \",self.salary)\n",
    "class Engineer(Employee):\n",
    "    def __init__(self,name,age):\n",
    "        self.name = name\n",
    "        self.age = age\n",
    "        super().__init__(\"Junior_engineer\",\"CSE\",\"1,00,000\")\n",
    "Emp1 = Engineer(\"Arup\",21)\n",
    "print(Emp1.name)\n",
    "print(Emp1.age)\n",
    "Emp1.showdetails()"
   ]
  },
  {
   "cell_type": "markdown",
   "id": "66b0d2f3",
   "metadata": {},
   "source": [
    "# Create a class called order which store item and its price use dunder function __gt__() -> greater than to convey that:\n",
    "# order1 > order2 if price of order1 > price of order2"
   ]
  },
  {
   "cell_type": "code",
   "execution_count": 7,
   "id": "4ee03f4c",
   "metadata": {},
   "outputs": [
    {
     "name": "stdout",
     "output_type": "stream",
     "text": [
      "True\n"
     ]
    }
   ],
   "source": [
    "class order:\n",
    "    def __init__(self,item,price):\n",
    "        self.item = item\n",
    "        self.price = price\n",
    "    def __gt__(self,ord2):\n",
    "        return self.price>ord2.price\n",
    "ord1 = order(\"chips\",50)\n",
    "ord2 = order(\"water_bottel\",20)\n",
    "print(ord1>ord2)"
   ]
  }
 ],
 "metadata": {
  "kernelspec": {
   "display_name": "Python 3 (ipykernel)",
   "language": "python",
   "name": "python3"
  },
  "language_info": {
   "codemirror_mode": {
    "name": "ipython",
    "version": 3
   },
   "file_extension": ".py",
   "mimetype": "text/x-python",
   "name": "python",
   "nbconvert_exporter": "python",
   "pygments_lexer": "ipython3",
   "version": "3.10.9"
  }
 },
 "nbformat": 4,
 "nbformat_minor": 5
}
