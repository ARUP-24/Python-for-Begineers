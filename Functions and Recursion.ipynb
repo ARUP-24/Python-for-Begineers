{
 "cells": [
  {
   "cell_type": "markdown",
   "id": "8efa549b",
   "metadata": {},
   "source": [
    "# Functions "
   ]
  },
  {
   "cell_type": "markdown",
   "id": "40ba6f42",
   "metadata": {},
   "source": [
    "# Print in  same line"
   ]
  },
  {
   "cell_type": "code",
   "execution_count": 2,
   "id": "ab736dda",
   "metadata": {},
   "outputs": [
    {
     "name": "stdout",
     "output_type": "stream",
     "text": [
      "hello world\n"
     ]
    }
   ],
   "source": [
    "print(\"hello\",end=\" \")\n",
    "print(\"world\")"
   ]
  },
  {
   "cell_type": "markdown",
   "id": "eb0a018f",
   "metadata": {},
   "source": [
    "# WAF to print the length of a list. (list is the parameter)"
   ]
  },
  {
   "cell_type": "code",
   "execution_count": 3,
   "id": "8ca2582f",
   "metadata": {},
   "outputs": [
    {
     "name": "stdout",
     "output_type": "stream",
     "text": [
      "5\n"
     ]
    }
   ],
   "source": [
    "def print_length(list1):\n",
    "    print(len(list1))\n",
    "    \n",
    "list1 = [\"arup\",2,2.3,True,2+3j]\n",
    "print_length(list1)"
   ]
  },
  {
   "cell_type": "markdown",
   "id": "339d1f43",
   "metadata": {},
   "source": [
    "# WAF to print element of list in a single line. (list is the parameter)"
   ]
  },
  {
   "cell_type": "code",
   "execution_count": 4,
   "id": "fcc146de",
   "metadata": {},
   "outputs": [
    {
     "name": "stdout",
     "output_type": "stream",
     "text": [
      "arup 2 2.3 True (2+3j) "
     ]
    }
   ],
   "source": [
    "def print_length(list1):\n",
    "    for i in list1:\n",
    "        print(i,end=\" \")\n",
    "    \n",
    "list1 = [\"arup\",2,2.3,True,2+3j]\n",
    "print_length(list1)"
   ]
  },
  {
   "cell_type": "markdown",
   "id": "85dd51ca",
   "metadata": {},
   "source": [
    "# WAF to  find factorial of n . (n is the parameter)"
   ]
  },
  {
   "cell_type": "code",
   "execution_count": 12,
   "id": "12f51a75",
   "metadata": {},
   "outputs": [
    {
     "name": "stdout",
     "output_type": "stream",
     "text": [
      "Enter the number: 5\n",
      "120\n"
     ]
    }
   ],
   "source": [
    "def factorial(n):\n",
    "    fac = 1\n",
    "    for i in range(n,0,-1):\n",
    "        fac *= i\n",
    "    return fac\n",
    "\n",
    "n = int(input(\"Enter the number: \"))\n",
    "print(factorial(n))"
   ]
  },
  {
   "cell_type": "code",
   "execution_count": 11,
   "id": "b477a2e3",
   "metadata": {},
   "outputs": [
    {
     "name": "stdout",
     "output_type": "stream",
     "text": [
      "Enter the number: 5\n",
      "120\n"
     ]
    }
   ],
   "source": [
    "def factorial(n):\n",
    "    fac = 1\n",
    "    for i in range(1,n+1):\n",
    "        fac *= i\n",
    "    return fac\n",
    "\n",
    "n = int(input(\"Enter the number: \"))\n",
    "print(factorial(n))"
   ]
  },
  {
   "cell_type": "markdown",
   "id": "40043b71",
   "metadata": {},
   "source": [
    "# WAF to convert USD to INR."
   ]
  },
  {
   "cell_type": "code",
   "execution_count": 10,
   "id": "d3ff8142",
   "metadata": {},
   "outputs": [
    {
     "name": "stdout",
     "output_type": "stream",
     "text": [
      "Enter the USD: 1000\n",
      "1000 USD =  82000 INR\n"
     ]
    }
   ],
   "source": [
    "def convert(USD):\n",
    "    return 82*USD\n",
    "\n",
    "USD = int(input(\"Enter the USD: \"))\n",
    "INR = convert(USD)\n",
    "print(USD,\"USD = \",INR,\"INR\")"
   ]
  },
  {
   "cell_type": "markdown",
   "id": "f53e0757",
   "metadata": {},
   "source": [
    "# WAF to print the number is odd or even."
   ]
  },
  {
   "cell_type": "code",
   "execution_count": 14,
   "id": "bd7109f1",
   "metadata": {},
   "outputs": [
    {
     "name": "stdout",
     "output_type": "stream",
     "text": [
      "Enter the number: 6\n",
      "number is even\n"
     ]
    }
   ],
   "source": [
    "def even_odd(n):\n",
    "    if (n%2==0):\n",
    "        print(\"number is even\")\n",
    "    else:\n",
    "        print(\"number is odd\")\n",
    "    \n",
    "n = int(input(\"Enter the number: \"))\n",
    "even_odd(n)"
   ]
  },
  {
   "cell_type": "markdown",
   "id": "884be7d7",
   "metadata": {},
   "source": [
    "# Recursion \n",
    "# when a function call itself repatedly"
   ]
  },
  {
   "cell_type": "markdown",
   "id": "eec27e15",
   "metadata": {},
   "source": [
    "# print Number from 1 to 5 using recursion"
   ]
  },
  {
   "cell_type": "code",
   "execution_count": 16,
   "id": "a8dc849c",
   "metadata": {},
   "outputs": [
    {
     "name": "stdout",
     "output_type": "stream",
     "text": [
      "1\n",
      "2\n",
      "3\n",
      "4\n",
      "5\n"
     ]
    }
   ],
   "source": [
    "def num(n):\n",
    "    if (n==6): # base case\n",
    "        return\n",
    "    print(n)\n",
    "    num(n+1)\n",
    "\n",
    "num(1)"
   ]
  },
  {
   "cell_type": "markdown",
   "id": "f21959dd",
   "metadata": {},
   "source": [
    "# Write a recursion function to calculate the factorial of number."
   ]
  },
  {
   "cell_type": "code",
   "execution_count": 1,
   "id": "db160528",
   "metadata": {},
   "outputs": [
    {
     "name": "stdout",
     "output_type": "stream",
     "text": [
      "Enter the number: 5\n",
      "120\n"
     ]
    }
   ],
   "source": [
    "def factorial(n):\n",
    "    fac = 1\n",
    "    if (n==1 or n==0):\n",
    "        return 1\n",
    "    return factorial(n-1) * n\n",
    "    \n",
    "n = int(input(\"Enter the number: \"))\n",
    "print(factorial(n))"
   ]
  },
  {
   "cell_type": "code",
   "execution_count": 6,
   "id": "9a471f2c",
   "metadata": {},
   "outputs": [
    {
     "name": "stdout",
     "output_type": "stream",
     "text": [
      "Enter the number: 5\n",
      "120\n"
     ]
    }
   ],
   "source": [
    "def factorial(n):\n",
    "    fac = 1\n",
    "    if (n==1 or n==0):\n",
    "        return 1\n",
    "    fac = factorial(n-1) * n\n",
    "    return fac\n",
    "    \n",
    "n = int(input(\"Enter the number: \"))\n",
    "print(factorial(n))"
   ]
  },
  {
   "cell_type": "markdown",
   "id": "b7f02f04",
   "metadata": {},
   "source": [
    "# Write a recursion function to calculate the sum of first n natural numbers."
   ]
  },
  {
   "cell_type": "code",
   "execution_count": 7,
   "id": "e77f83e6",
   "metadata": {},
   "outputs": [
    {
     "name": "stdout",
     "output_type": "stream",
     "text": [
      "Enter the number: 5\n",
      "15\n"
     ]
    }
   ],
   "source": [
    "def sumof(n):\n",
    "    sum = 0\n",
    "    if (n == 1 or n == 0):\n",
    "        return 1\n",
    "    sum = sumof(n-1) + n\n",
    "    return sum\n",
    "\n",
    "n = int(input(\"Enter the number: \"))\n",
    "print(sumof(n))"
   ]
  },
  {
   "cell_type": "markdown",
   "id": "032159c8",
   "metadata": {},
   "source": [
    "# Write a recursion function to print all the elements in a list . (Hint : use list and index as parameters)."
   ]
  },
  {
   "cell_type": "code",
   "execution_count": 5,
   "id": "36df2e9f",
   "metadata": {},
   "outputs": [
    {
     "name": "stdout",
     "output_type": "stream",
     "text": [
      "arup\n",
      "2\n",
      "3.4\n",
      "True\n",
      "(2+7j)\n",
      "False\n",
      "ranjan\n"
     ]
    }
   ],
   "source": [
    "def list1_ele(list1,idx):\n",
    "    if idx == len(list1):\n",
    "        return\n",
    "    print(list1[idx])\n",
    "    list1_ele(list1,idx+1)\n",
    "    \n",
    "list1 = [\"arup\",2,3.4,True,2+7j,False,\"ranjan\"]\n",
    "list1_ele(list1,0)"
   ]
  }
 ],
 "metadata": {
  "kernelspec": {
   "display_name": "Python 3 (ipykernel)",
   "language": "python",
   "name": "python3"
  },
  "language_info": {
   "codemirror_mode": {
    "name": "ipython",
    "version": 3
   },
   "file_extension": ".py",
   "mimetype": "text/x-python",
   "name": "python",
   "nbconvert_exporter": "python",
   "pygments_lexer": "ipython3",
   "version": "3.10.9"
  }
 },
 "nbformat": 4,
 "nbformat_minor": 5
}
