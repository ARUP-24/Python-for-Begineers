{
 "cells": [
  {
   "cell_type": "markdown",
   "id": "024c275b",
   "metadata": {},
   "source": [
    "# Making dictionary using function"
   ]
  },
  {
   "cell_type": "code",
   "execution_count": 1,
   "id": "96751dc6",
   "metadata": {},
   "outputs": [
    {
     "name": "stdout",
     "output_type": "stream",
     "text": [
      "{1: 'arup', 2: 'dalai'}\n"
     ]
    }
   ],
   "source": [
    "a = dict({1:\"arup\",2:\"dalai\"})\n",
    "print(a)"
   ]
  },
  {
   "cell_type": "markdown",
   "id": "ace6df05",
   "metadata": {},
   "source": [
    "# Nested dictionary"
   ]
  },
  {
   "cell_type": "code",
   "execution_count": 2,
   "id": "31ec3e9f",
   "metadata": {},
   "outputs": [
    {
     "name": "stdout",
     "output_type": "stream",
     "text": [
      "{'name': 'Arup', 'Subject': {'Math': 90, 'Science': 70, 'English': 100}}\n"
     ]
    }
   ],
   "source": [
    "students = {\"name\":\"Arup\",\"Subject\":{\"Math\":90,\"Science\":70,\"English\":100}}\n",
    "print(students)"
   ]
  },
  {
   "cell_type": "code",
   "execution_count": 5,
   "id": "0cb2da36",
   "metadata": {},
   "outputs": [
    {
     "name": "stdout",
     "output_type": "stream",
     "text": [
      "70\n"
     ]
    }
   ],
   "source": [
    "students = {\"name\":\"Arup\",\"Subject\":{\"Math\":90,\"Science\":70,\"English\":100}}\n",
    "print(students[\"Subject\"][\"Science\"])"
   ]
  },
  {
   "cell_type": "code",
   "execution_count": 6,
   "id": "d2a7cb76",
   "metadata": {},
   "outputs": [
    {
     "name": "stdout",
     "output_type": "stream",
     "text": [
      "Arup\n"
     ]
    }
   ],
   "source": [
    "students = {\"name\":\"Arup\",\"Subject\":{\"Math\":90,\"Science\":70,\"English\":100}}\n",
    "print(students[\"name\"])"
   ]
  },
  {
   "cell_type": "markdown",
   "id": "99f5bfb6",
   "metadata": {},
   "source": [
    "# change the existing key value"
   ]
  },
  {
   "cell_type": "code",
   "execution_count": 7,
   "id": "99ac33ae",
   "metadata": {},
   "outputs": [
    {
     "name": "stdout",
     "output_type": "stream",
     "text": [
      "{'name': 'Arup', 'Subject': {'Math': 80, 'Science': 70, 'English': 100}}\n"
     ]
    }
   ],
   "source": [
    "students = {\"name\":\"Arup\",\"Subject\":{\"Math\":90,\"Science\":70,\"English\":100}}\n",
    "students[\"Subject\"][\"Math\"] = 80\n",
    "print(students)"
   ]
  },
  {
   "cell_type": "markdown",
   "id": "cc91faac",
   "metadata": {},
   "source": [
    "# Adding new key value "
   ]
  },
  {
   "cell_type": "code",
   "execution_count": 8,
   "id": "4ad2ad8e",
   "metadata": {},
   "outputs": [
    {
     "name": "stdout",
     "output_type": "stream",
     "text": [
      "{'name': 'Arup', 'Subject': {'Math': 90, 'Science': 70, 'English': 100, 'Hindi': 80}, 'age': 21}\n"
     ]
    }
   ],
   "source": [
    "students = {\"name\":\"Arup\",\"Subject\":{\"Math\":90,\"Science\":70,\"English\":100}}\n",
    "students[\"age\"] = 21\n",
    "students[\"Subject\"][\"Hindi\"] = 80\n",
    "print(students)"
   ]
  },
  {
   "cell_type": "markdown",
   "id": "3277072a",
   "metadata": {},
   "source": [
    "# View all Keys"
   ]
  },
  {
   "cell_type": "code",
   "execution_count": 9,
   "id": "fa2f8583",
   "metadata": {},
   "outputs": [
    {
     "name": "stdout",
     "output_type": "stream",
     "text": [
      "dict_keys(['name', 'Subject'])\n"
     ]
    }
   ],
   "source": [
    "students = {\"name\":\"Arup\",\"Subject\":{\"Math\":90,\"Science\":70,\"English\":100}}\n",
    "print(students.keys())"
   ]
  },
  {
   "cell_type": "markdown",
   "id": "9598f40c",
   "metadata": {},
   "source": [
    "# Empty dictionary"
   ]
  },
  {
   "cell_type": "code",
   "execution_count": 10,
   "id": "65018641",
   "metadata": {},
   "outputs": [
    {
     "name": "stdout",
     "output_type": "stream",
     "text": [
      "<class 'dict'>\n",
      "{}\n"
     ]
    }
   ],
   "source": [
    "students = {}\n",
    "print(type(students))\n",
    "print(students)"
   ]
  },
  {
   "cell_type": "markdown",
   "id": "7f4c9669",
   "metadata": {},
   "source": [
    "# View all values"
   ]
  },
  {
   "cell_type": "code",
   "execution_count": 11,
   "id": "9aeb1faa",
   "metadata": {},
   "outputs": [
    {
     "name": "stdout",
     "output_type": "stream",
     "text": [
      "dict_values(['Arup', {'Math': 90, 'Science': 70, 'English': 100}])\n"
     ]
    }
   ],
   "source": [
    "students = {\"name\":\"Arup\",\"Subject\":{\"Math\":90,\"Science\":70,\"English\":100}}\n",
    "print(students.values())"
   ]
  },
  {
   "cell_type": "markdown",
   "id": "d11accbe",
   "metadata": {},
   "source": [
    "# view items "
   ]
  },
  {
   "cell_type": "code",
   "execution_count": 12,
   "id": "e533f282",
   "metadata": {},
   "outputs": [
    {
     "name": "stdout",
     "output_type": "stream",
     "text": [
      "dict_items([('name', 'Arup'), ('Subject', {'Math': 90, 'Science': 70, 'English': 100})])\n"
     ]
    }
   ],
   "source": [
    "students = {\"name\":\"Arup\",\"Subject\":{\"Math\":90,\"Science\":70,\"English\":100}}\n",
    "print(students.items())"
   ]
  },
  {
   "cell_type": "markdown",
   "id": "7c6e3a60",
   "metadata": {},
   "source": [
    "# Key accordinf to value"
   ]
  },
  {
   "cell_type": "code",
   "execution_count": 14,
   "id": "25821290",
   "metadata": {},
   "outputs": [
    {
     "name": "stdout",
     "output_type": "stream",
     "text": [
      "Arup\n",
      "Arup\n"
     ]
    }
   ],
   "source": [
    "students = {\"name\":\"Arup\",\"Subject\":{\"Math\":90,\"Science\":70,\"English\":100}}\n",
    "print(students[\"name\"])\n",
    "print(students.get(\"name\"))"
   ]
  },
  {
   "cell_type": "markdown",
   "id": "122e9be7",
   "metadata": {},
   "source": [
    "# Add specific items to a dictionary\n",
    "# concatination"
   ]
  },
  {
   "cell_type": "code",
   "execution_count": 16,
   "id": "fd38bb70",
   "metadata": {},
   "outputs": [
    {
     "name": "stdout",
     "output_type": "stream",
     "text": [
      "{'name': 'Arup', 'Subject': {'Math': 90, 'Science': 70, 'English': 100}, 'age': 21, 'class': 'Eleven', 'Gender': 'Male'}\n"
     ]
    }
   ],
   "source": [
    "students = {\"name\":\"Arup\",\"Subject\":{\"Math\":90,\"Science\":70,\"English\":100}}\n",
    "students1 ={\"age\":21,\"class\":\"Eleven\",\"Gender\":\"Male\"}\n",
    "students.update(students1)\n",
    "print(students)"
   ]
  },
  {
   "cell_type": "markdown",
   "id": "19689313",
   "metadata": {},
   "source": [
    "# pop items from dictionary"
   ]
  },
  {
   "cell_type": "code",
   "execution_count": 17,
   "id": "156abe73",
   "metadata": {},
   "outputs": [
    {
     "name": "stdout",
     "output_type": "stream",
     "text": [
      "{'Subject': {'Math': 90, 'Science': 70, 'English': 100}}\n"
     ]
    }
   ],
   "source": [
    "students = {\"name\":\"Arup\",\"Subject\":{\"Math\":90,\"Science\":70,\"English\":100}}\n",
    "students.pop(\"name\")\n",
    "print(students)"
   ]
  },
  {
   "cell_type": "code",
   "execution_count": 22,
   "id": "41598e86",
   "metadata": {},
   "outputs": [
    {
     "name": "stdout",
     "output_type": "stream",
     "text": [
      "{'Subject': {'Math': 90, 'Science': 70, 'English': 100}}\n"
     ]
    }
   ],
   "source": [
    "students = {\"name\":\"Arup\",\"Subject\":{\"Math\":90,\"Science\":70,\"English\":100}}\n",
    "del students[\"name\"]\n",
    "print(students)"
   ]
  },
  {
   "cell_type": "markdown",
   "id": "7e81a0e6",
   "metadata": {},
   "source": [
    "# values are tuple,list,dict,set,string,int,float,bollean\n",
    "# keys are Tuples,int,string,bollean,float"
   ]
  },
  {
   "cell_type": "code",
   "execution_count": 19,
   "id": "26173161",
   "metadata": {},
   "outputs": [
    {
     "name": "stdout",
     "output_type": "stream",
     "text": [
      "{'name': 'Arup', 'Subject': {'Math': 90, 'Science': 70, 'English': 100}, 'age': [10, 20, 30], 'class': (1, 2, 3, 4, 5), 'Gender': {'Female', 'Male'}}\n"
     ]
    }
   ],
   "source": [
    "students = {\"name\":\"Arup\",\"Subject\":{\"Math\":90,\"Science\":70,\"English\":100},\"age\":[10,20,30],\"class\":(1,2,3,4,5),\"Gender\":{\"Male\",\"Female\"}}\n",
    "print(students)"
   ]
  },
  {
   "cell_type": "markdown",
   "id": "57f7481a",
   "metadata": {},
   "source": [
    "# length of dictionary"
   ]
  },
  {
   "cell_type": "code",
   "execution_count": 20,
   "id": "a24fbf95",
   "metadata": {},
   "outputs": [
    {
     "name": "stdout",
     "output_type": "stream",
     "text": [
      "5\n"
     ]
    }
   ],
   "source": [
    "students = {\"name\":\"Arup\",\"Subject\":{\"Math\":90,\"Science\":70,\"English\":100},\"age\":[10,20,30],\"class\":(1,2,3,4,5),\"Gender\":{\"Male\",\"Female\"}}\n",
    "print(len(students))"
   ]
  },
  {
   "cell_type": "markdown",
   "id": "82c18607",
   "metadata": {},
   "source": [
    "# Delete dictionary"
   ]
  },
  {
   "cell_type": "code",
   "execution_count": 21,
   "id": "ae7383a0",
   "metadata": {},
   "outputs": [
    {
     "ename": "NameError",
     "evalue": "name 'students' is not defined",
     "output_type": "error",
     "traceback": [
      "\u001b[1;31m---------------------------------------------------------------------------\u001b[0m",
      "\u001b[1;31mNameError\u001b[0m                                 Traceback (most recent call last)",
      "Cell \u001b[1;32mIn[21], line 3\u001b[0m\n\u001b[0;32m      1\u001b[0m students \u001b[38;5;241m=\u001b[39m {\u001b[38;5;124m\"\u001b[39m\u001b[38;5;124mname\u001b[39m\u001b[38;5;124m\"\u001b[39m:\u001b[38;5;124m\"\u001b[39m\u001b[38;5;124mArup\u001b[39m\u001b[38;5;124m\"\u001b[39m,\u001b[38;5;124m\"\u001b[39m\u001b[38;5;124mSubject\u001b[39m\u001b[38;5;124m\"\u001b[39m:{\u001b[38;5;124m\"\u001b[39m\u001b[38;5;124mMath\u001b[39m\u001b[38;5;124m\"\u001b[39m:\u001b[38;5;241m90\u001b[39m,\u001b[38;5;124m\"\u001b[39m\u001b[38;5;124mScience\u001b[39m\u001b[38;5;124m\"\u001b[39m:\u001b[38;5;241m70\u001b[39m,\u001b[38;5;124m\"\u001b[39m\u001b[38;5;124mEnglish\u001b[39m\u001b[38;5;124m\"\u001b[39m:\u001b[38;5;241m100\u001b[39m},\u001b[38;5;124m\"\u001b[39m\u001b[38;5;124mage\u001b[39m\u001b[38;5;124m\"\u001b[39m:[\u001b[38;5;241m10\u001b[39m,\u001b[38;5;241m20\u001b[39m,\u001b[38;5;241m30\u001b[39m],\u001b[38;5;124m\"\u001b[39m\u001b[38;5;124mclass\u001b[39m\u001b[38;5;124m\"\u001b[39m:(\u001b[38;5;241m1\u001b[39m,\u001b[38;5;241m2\u001b[39m,\u001b[38;5;241m3\u001b[39m,\u001b[38;5;241m4\u001b[39m,\u001b[38;5;241m5\u001b[39m),\u001b[38;5;124m\"\u001b[39m\u001b[38;5;124mGender\u001b[39m\u001b[38;5;124m\"\u001b[39m:{\u001b[38;5;124m\"\u001b[39m\u001b[38;5;124mMale\u001b[39m\u001b[38;5;124m\"\u001b[39m,\u001b[38;5;124m\"\u001b[39m\u001b[38;5;124mFemale\u001b[39m\u001b[38;5;124m\"\u001b[39m}}\n\u001b[0;32m      2\u001b[0m \u001b[38;5;28;01mdel\u001b[39;00m students\n\u001b[1;32m----> 3\u001b[0m \u001b[38;5;28mprint\u001b[39m(\u001b[38;5;28mlen\u001b[39m(\u001b[43mstudents\u001b[49m))\n",
      "\u001b[1;31mNameError\u001b[0m: name 'students' is not defined"
     ]
    }
   ],
   "source": [
    "students = {\"name\":\"Arup\",\"Subject\":{\"Math\":90,\"Science\":70,\"English\":100},\"age\":[10,20,30],\"class\":(1,2,3,4,5),\"Gender\":{\"Male\",\"Female\"}}\n",
    "del students\n",
    "print(len(students))"
   ]
  }
 ],
 "metadata": {
  "kernelspec": {
   "display_name": "Python 3 (ipykernel)",
   "language": "python",
   "name": "python3"
  },
  "language_info": {
   "codemirror_mode": {
    "name": "ipython",
    "version": 3
   },
   "file_extension": ".py",
   "mimetype": "text/x-python",
   "name": "python",
   "nbconvert_exporter": "python",
   "pygments_lexer": "ipython3",
   "version": "3.10.9"
  }
 },
 "nbformat": 4,
 "nbformat_minor": 5
}
