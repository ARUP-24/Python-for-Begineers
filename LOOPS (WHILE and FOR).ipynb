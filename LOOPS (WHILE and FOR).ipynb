{
 "cells": [
  {
   "cell_type": "markdown",
   "id": "e7127db3",
   "metadata": {},
   "source": [
    "# While Loop"
   ]
  },
  {
   "cell_type": "markdown",
   "id": "051abc7d",
   "metadata": {},
   "source": [
    "Infinite loop"
   ]
  },
  {
   "cell_type": "code",
   "execution_count": null,
   "id": "5f2ac7d5",
   "metadata": {},
   "outputs": [],
   "source": [
    "while True:\n",
    "    print(\"Arup\")\n",
    "    break"
   ]
  },
  {
   "cell_type": "markdown",
   "id": "8e4a9df2",
   "metadata": {},
   "source": [
    "# Print a number from 1 to 100"
   ]
  },
  {
   "cell_type": "code",
   "execution_count": 1,
   "id": "5e3edcfa",
   "metadata": {},
   "outputs": [
    {
     "name": "stdout",
     "output_type": "stream",
     "text": [
      "1\n",
      "2\n",
      "3\n",
      "4\n",
      "5\n",
      "6\n",
      "7\n",
      "8\n",
      "9\n",
      "10\n",
      "11\n",
      "12\n",
      "13\n",
      "14\n",
      "15\n",
      "16\n",
      "17\n",
      "18\n",
      "19\n",
      "20\n",
      "21\n",
      "22\n",
      "23\n",
      "24\n",
      "25\n",
      "26\n",
      "27\n",
      "28\n",
      "29\n",
      "30\n",
      "31\n",
      "32\n",
      "33\n",
      "34\n",
      "35\n",
      "36\n",
      "37\n",
      "38\n",
      "39\n",
      "40\n",
      "41\n",
      "42\n",
      "43\n",
      "44\n",
      "45\n",
      "46\n",
      "47\n",
      "48\n",
      "49\n",
      "50\n",
      "51\n",
      "52\n",
      "53\n",
      "54\n",
      "55\n",
      "56\n",
      "57\n",
      "58\n",
      "59\n",
      "60\n",
      "61\n",
      "62\n",
      "63\n",
      "64\n",
      "65\n",
      "66\n",
      "67\n",
      "68\n",
      "69\n",
      "70\n",
      "71\n",
      "72\n",
      "73\n",
      "74\n",
      "75\n",
      "76\n",
      "77\n",
      "78\n",
      "79\n",
      "80\n",
      "81\n",
      "82\n",
      "83\n",
      "84\n",
      "85\n",
      "86\n",
      "87\n",
      "88\n",
      "89\n",
      "90\n",
      "91\n",
      "92\n",
      "93\n",
      "94\n",
      "95\n",
      "96\n",
      "97\n",
      "98\n",
      "99\n",
      "100\n"
     ]
    }
   ],
   "source": [
    "i = 1\n",
    "while i <= 100:\n",
    "    print(i)\n",
    "    i+=1"
   ]
  },
  {
   "cell_type": "markdown",
   "id": "ce04c8d4",
   "metadata": {},
   "source": [
    "# Print number from 100 to 1"
   ]
  },
  {
   "cell_type": "code",
   "execution_count": 2,
   "id": "f07c3118",
   "metadata": {},
   "outputs": [
    {
     "name": "stdout",
     "output_type": "stream",
     "text": [
      "100\n",
      "99\n",
      "98\n",
      "97\n",
      "96\n",
      "95\n",
      "94\n",
      "93\n",
      "92\n",
      "91\n",
      "90\n",
      "89\n",
      "88\n",
      "87\n",
      "86\n",
      "85\n",
      "84\n",
      "83\n",
      "82\n",
      "81\n",
      "80\n",
      "79\n",
      "78\n",
      "77\n",
      "76\n",
      "75\n",
      "74\n",
      "73\n",
      "72\n",
      "71\n",
      "70\n",
      "69\n",
      "68\n",
      "67\n",
      "66\n",
      "65\n",
      "64\n",
      "63\n",
      "62\n",
      "61\n",
      "60\n",
      "59\n",
      "58\n",
      "57\n",
      "56\n",
      "55\n",
      "54\n",
      "53\n",
      "52\n",
      "51\n",
      "50\n",
      "49\n",
      "48\n",
      "47\n",
      "46\n",
      "45\n",
      "44\n",
      "43\n",
      "42\n",
      "41\n",
      "40\n",
      "39\n",
      "38\n",
      "37\n",
      "36\n",
      "35\n",
      "34\n",
      "33\n",
      "32\n",
      "31\n",
      "30\n",
      "29\n",
      "28\n",
      "27\n",
      "26\n",
      "25\n",
      "24\n",
      "23\n",
      "22\n",
      "21\n",
      "20\n",
      "19\n",
      "18\n",
      "17\n",
      "16\n",
      "15\n",
      "14\n",
      "13\n",
      "12\n",
      "11\n",
      "10\n",
      "9\n",
      "8\n",
      "7\n",
      "6\n",
      "5\n",
      "4\n",
      "3\n",
      "2\n",
      "1\n"
     ]
    }
   ],
   "source": [
    "i = 100\n",
    "while i >= 1:\n",
    "    print(i)\n",
    "    i-=1"
   ]
  },
  {
   "cell_type": "markdown",
   "id": "d604d6e0",
   "metadata": {},
   "source": [
    "# Print the multiplication tables of a number n."
   ]
  },
  {
   "cell_type": "code",
   "execution_count": 3,
   "id": "041846dc",
   "metadata": {},
   "outputs": [
    {
     "name": "stdout",
     "output_type": "stream",
     "text": [
      "Enter the table you need: 9\n",
      "9\n",
      "18\n",
      "27\n",
      "36\n",
      "45\n",
      "54\n",
      "63\n",
      "72\n",
      "81\n",
      "90\n"
     ]
    }
   ],
   "source": [
    "n = int(input(\"Enter the table you need: \"))\n",
    "i = 1\n",
    "while i <= 10:\n",
    "    print(n*i)\n",
    "    i+=1"
   ]
  },
  {
   "cell_type": "markdown",
   "id": "63ac967f",
   "metadata": {},
   "source": [
    "# Print the elements of the following list using a loop.\n",
    "[1,4,9,16,25,36,49,64,81,100]"
   ]
  },
  {
   "cell_type": "code",
   "execution_count": 7,
   "id": "62f2e0e4",
   "metadata": {},
   "outputs": [
    {
     "name": "stdout",
     "output_type": "stream",
     "text": [
      "1\n",
      "4\n",
      "9\n",
      "16\n",
      "25\n",
      "36\n",
      "49\n",
      "64\n",
      "81\n",
      "100\n"
     ]
    }
   ],
   "source": [
    "list1 = [1,4,9,16,25,36,49,64,81,100]\n",
    "i = 0\n",
    "while i < len(list1):\n",
    "    print(list1[i])\n",
    "    i+=1"
   ]
  },
  {
   "cell_type": "markdown",
   "id": "8f477f6e",
   "metadata": {},
   "source": [
    "# Serach for a number x in this tuple using loop.\n",
    "(1,4,9,16,25,36,49,64,81,100)"
   ]
  },
  {
   "cell_type": "code",
   "execution_count": 11,
   "id": "c37e8769",
   "metadata": {},
   "outputs": [
    {
     "name": "stdout",
     "output_type": "stream",
     "text": [
      "Found successfully 6\n"
     ]
    }
   ],
   "source": [
    "tuple1 = (1,4,9,16,25,36,49,64,81,100)\n",
    "x = 49\n",
    "i = 0\n",
    "while i < len(tuple1):\n",
    "    if tuple1[i] == 49:\n",
    "        print(\"Found successfully\",i)\n",
    "    i+=1"
   ]
  },
  {
   "cell_type": "markdown",
   "id": "6cb8362f",
   "metadata": {},
   "source": [
    "# Break \n",
    "#used to terminate the loop when encounted"
   ]
  },
  {
   "cell_type": "code",
   "execution_count": 4,
   "id": "df8be9aa",
   "metadata": {},
   "outputs": [
    {
     "name": "stdout",
     "output_type": "stream",
     "text": [
      "Found successfully 6\n"
     ]
    }
   ],
   "source": [
    "tuple1 = (1,4,9,16,25,36,49,64,81,100,49)\n",
    "x = 49\n",
    "i = 0\n",
    "while i < len(tuple1):\n",
    "    if tuple1[i] == 49:\n",
    "        print(\"Found successfully\",i)\n",
    "        break\n",
    "    i+=1"
   ]
  },
  {
   "cell_type": "markdown",
   "id": "5637dd1a",
   "metadata": {},
   "source": [
    "# Continue \n",
    "#terminates execution in the current iteration and continues ececution of loop with the nect itreation"
   ]
  },
  {
   "cell_type": "code",
   "execution_count": 7,
   "id": "5d250484",
   "metadata": {},
   "outputs": [
    {
     "name": "stdout",
     "output_type": "stream",
     "text": [
      "0\n",
      "1\n",
      "2\n",
      "3\n",
      "4\n",
      "5\n",
      "7\n",
      "8\n",
      "9\n"
     ]
    }
   ],
   "source": [
    "tuple1 = (1,4,9,16,25,36,49,64,81,100)\n",
    "x = 49\n",
    "i = 0\n",
    "while i < len(tuple1):\n",
    "    if tuple1[i] == 49:\n",
    "        i+=1\n",
    "        continue\n",
    "    print(i)\n",
    "    i+=1"
   ]
  },
  {
   "cell_type": "markdown",
   "id": "4b6acd58",
   "metadata": {},
   "source": [
    "# For loop "
   ]
  },
  {
   "cell_type": "markdown",
   "id": "6b6fdbe5",
   "metadata": {},
   "source": [
    "# Print the element of the following list using a loop .\n",
    "[1,4,9,16,25,36,49,64,81,100]"
   ]
  },
  {
   "cell_type": "code",
   "execution_count": 8,
   "id": "af6ab056",
   "metadata": {},
   "outputs": [
    {
     "name": "stdout",
     "output_type": "stream",
     "text": [
      "1\n",
      "4\n",
      "9\n",
      "16\n",
      "25\n",
      "36\n",
      "49\n",
      "64\n",
      "81\n",
      "100\n"
     ]
    }
   ],
   "source": [
    "list1 = [1,4,9,16,25,36,49,64,81,100]\n",
    "for i in list1:\n",
    "    print(i)"
   ]
  },
  {
   "cell_type": "markdown",
   "id": "c3d75bed",
   "metadata": {},
   "source": [
    "# print a string using a loop"
   ]
  },
  {
   "cell_type": "code",
   "execution_count": 9,
   "id": "4b49698f",
   "metadata": {},
   "outputs": [
    {
     "name": "stdout",
     "output_type": "stream",
     "text": [
      "a\n",
      "r\n",
      "u\n",
      "p\n",
      " \n",
      "r\n",
      "a\n",
      "n\n",
      "j\n",
      "a\n",
      "n\n",
      " \n",
      "d\n",
      "a\n",
      "l\n",
      "a\n",
      "i\n"
     ]
    }
   ],
   "source": [
    "str1 = \"arup ranjan dalai\"\n",
    "for i in str1:\n",
    "    print(i)"
   ]
  },
  {
   "cell_type": "markdown",
   "id": "6ae2c01d",
   "metadata": {},
   "source": [
    "# print a tuple using loop"
   ]
  },
  {
   "cell_type": "code",
   "execution_count": 10,
   "id": "e0aa3fd2",
   "metadata": {},
   "outputs": [
    {
     "name": "stdout",
     "output_type": "stream",
     "text": [
      "1\n",
      "2\n",
      "3\n",
      "4\n",
      "5\n"
     ]
    }
   ],
   "source": [
    "tuple1 = (1,2,3,4,5)\n",
    "for i in tuple1:\n",
    "    print(i)"
   ]
  },
  {
   "cell_type": "markdown",
   "id": "02be1a96",
   "metadata": {},
   "source": [
    "# print dictionary using loop"
   ]
  },
  {
   "cell_type": "code",
   "execution_count": 15,
   "id": "68118bff",
   "metadata": {},
   "outputs": [
    {
     "name": "stdout",
     "output_type": "stream",
     "text": [
      "1\n",
      "arup\n",
      "2\n",
      "ranjan\n",
      "3\n",
      "dalai\n"
     ]
    }
   ],
   "source": [
    "dict1 = {1:\"arup\",2:\"ranjan\",3:\"dalai\"}\n",
    "for i in dict1:\n",
    "    print(i)\n",
    "    print(dict1[i])"
   ]
  },
  {
   "cell_type": "markdown",
   "id": "9fbda0ad",
   "metadata": {},
   "source": [
    "# print set using loop"
   ]
  },
  {
   "cell_type": "code",
   "execution_count": 14,
   "id": "8421ec02",
   "metadata": {},
   "outputs": [
    {
     "name": "stdout",
     "output_type": "stream",
     "text": [
      "arup\n",
      "1\n",
      "2.3\n",
      "False\n"
     ]
    }
   ],
   "source": [
    "set1 = {1,\"arup\",2.3,False}\n",
    "for i in set1:\n",
    "    print(i)"
   ]
  },
  {
   "cell_type": "markdown",
   "id": "da22c31d",
   "metadata": {},
   "source": [
    "# Serach for a number x in this tuple using loop .\n",
    "(1,4,9,16,25,36,49,64,81,100)"
   ]
  },
  {
   "cell_type": "code",
   "execution_count": 27,
   "id": "af38c1a2",
   "metadata": {},
   "outputs": [
    {
     "name": "stdout",
     "output_type": "stream",
     "text": [
      "Found the number 81\n"
     ]
    }
   ],
   "source": [
    "tuple1 = (1,4,9,16,25,36,49,64,81,100)\n",
    "for i in tuple1:\n",
    "    if i == 81:\n",
    "        print(\"Found the number\",i)\n",
    "    #else:\n",
    "        #print(\"not found the number\")"
   ]
  },
  {
   "cell_type": "markdown",
   "id": "127216a2",
   "metadata": {},
   "source": [
    "# Range \n",
    "#Range function return a swquence of numbers starting from 0 by default and increments by 1 (by default) and stop before a specific number."
   ]
  },
  {
   "cell_type": "markdown",
   "id": "b8c2ac7a",
   "metadata": {},
   "source": [
    "# Print numbers from 1 to 100."
   ]
  },
  {
   "cell_type": "code",
   "execution_count": 17,
   "id": "f955ef7c",
   "metadata": {},
   "outputs": [
    {
     "name": "stdout",
     "output_type": "stream",
     "text": [
      "1\n",
      "2\n",
      "3\n",
      "4\n",
      "5\n",
      "6\n",
      "7\n",
      "8\n",
      "9\n",
      "10\n",
      "11\n",
      "12\n",
      "13\n",
      "14\n",
      "15\n",
      "16\n",
      "17\n",
      "18\n",
      "19\n",
      "20\n",
      "21\n",
      "22\n",
      "23\n",
      "24\n",
      "25\n",
      "26\n",
      "27\n",
      "28\n",
      "29\n",
      "30\n",
      "31\n",
      "32\n",
      "33\n",
      "34\n",
      "35\n",
      "36\n",
      "37\n",
      "38\n",
      "39\n",
      "40\n",
      "41\n",
      "42\n",
      "43\n",
      "44\n",
      "45\n",
      "46\n",
      "47\n",
      "48\n",
      "49\n",
      "50\n",
      "51\n",
      "52\n",
      "53\n",
      "54\n",
      "55\n",
      "56\n",
      "57\n",
      "58\n",
      "59\n",
      "60\n",
      "61\n",
      "62\n",
      "63\n",
      "64\n",
      "65\n",
      "66\n",
      "67\n",
      "68\n",
      "69\n",
      "70\n",
      "71\n",
      "72\n",
      "73\n",
      "74\n",
      "75\n",
      "76\n",
      "77\n",
      "78\n",
      "79\n",
      "80\n",
      "81\n",
      "82\n",
      "83\n",
      "84\n",
      "85\n",
      "86\n",
      "87\n",
      "88\n",
      "89\n",
      "90\n",
      "91\n",
      "92\n",
      "93\n",
      "94\n",
      "95\n",
      "96\n",
      "97\n",
      "98\n",
      "99\n",
      "100\n"
     ]
    }
   ],
   "source": [
    "for i in range(1,101):\n",
    "    print(i)"
   ]
  },
  {
   "cell_type": "markdown",
   "id": "de8aa7c1",
   "metadata": {},
   "source": [
    "# print numbers from 100 to 1"
   ]
  },
  {
   "cell_type": "code",
   "execution_count": 18,
   "id": "d935f278",
   "metadata": {},
   "outputs": [
    {
     "name": "stdout",
     "output_type": "stream",
     "text": [
      "100\n",
      "99\n",
      "98\n",
      "97\n",
      "96\n",
      "95\n",
      "94\n",
      "93\n",
      "92\n",
      "91\n",
      "90\n",
      "89\n",
      "88\n",
      "87\n",
      "86\n",
      "85\n",
      "84\n",
      "83\n",
      "82\n",
      "81\n",
      "80\n",
      "79\n",
      "78\n",
      "77\n",
      "76\n",
      "75\n",
      "74\n",
      "73\n",
      "72\n",
      "71\n",
      "70\n",
      "69\n",
      "68\n",
      "67\n",
      "66\n",
      "65\n",
      "64\n",
      "63\n",
      "62\n",
      "61\n",
      "60\n",
      "59\n",
      "58\n",
      "57\n",
      "56\n",
      "55\n",
      "54\n",
      "53\n",
      "52\n",
      "51\n",
      "50\n",
      "49\n",
      "48\n",
      "47\n",
      "46\n",
      "45\n",
      "44\n",
      "43\n",
      "42\n",
      "41\n",
      "40\n",
      "39\n",
      "38\n",
      "37\n",
      "36\n",
      "35\n",
      "34\n",
      "33\n",
      "32\n",
      "31\n",
      "30\n",
      "29\n",
      "28\n",
      "27\n",
      "26\n",
      "25\n",
      "24\n",
      "23\n",
      "22\n",
      "21\n",
      "20\n",
      "19\n",
      "18\n",
      "17\n",
      "16\n",
      "15\n",
      "14\n",
      "13\n",
      "12\n",
      "11\n",
      "10\n",
      "9\n",
      "8\n",
      "7\n",
      "6\n",
      "5\n",
      "4\n",
      "3\n",
      "2\n",
      "1\n"
     ]
    }
   ],
   "source": [
    "for i in range(100,0,-1):\n",
    "    print(i)"
   ]
  },
  {
   "cell_type": "markdown",
   "id": "6e74f10d",
   "metadata": {},
   "source": [
    "# print the multiplication table of a number \"N\""
   ]
  },
  {
   "cell_type": "code",
   "execution_count": 19,
   "id": "00d3dad8",
   "metadata": {},
   "outputs": [
    {
     "name": "stdout",
     "output_type": "stream",
     "text": [
      "Enter the number: 3\n",
      "3\n",
      "6\n",
      "9\n",
      "12\n",
      "15\n",
      "18\n",
      "21\n",
      "24\n",
      "27\n",
      "30\n"
     ]
    }
   ],
   "source": [
    "n = int(input(\"Enter the number: \"))\n",
    "for i in range(1,11):\n",
    "    print(n*i)"
   ]
  },
  {
   "cell_type": "markdown",
   "id": "327068d0",
   "metadata": {},
   "source": [
    "# Print even and odd numbers."
   ]
  },
  {
   "cell_type": "code",
   "execution_count": 31,
   "id": "9abcd07f",
   "metadata": {},
   "outputs": [
    {
     "name": "stdout",
     "output_type": "stream",
     "text": [
      "Odd numbers:  1\n",
      "Odd numbers:  3\n",
      "Odd numbers:  5\n",
      "Odd numbers:  7\n",
      "Odd numbers:  9\n",
      "\n",
      "\n",
      "Even numbers:  2\n",
      "Even numbers:  4\n",
      "Even numbers:  6\n",
      "Even numbers:  8\n",
      "Even numbers:  10\n"
     ]
    }
   ],
   "source": [
    "for x in range(1,11,2):\n",
    "    print(\"Odd numbers: \",x)\n",
    "print()\n",
    "print()\n",
    "for y in range(2,11,2):\n",
    "    print(\"Even numbers: \",y)"
   ]
  },
  {
   "cell_type": "markdown",
   "id": "db2cfb5b",
   "metadata": {},
   "source": [
    "# Pass \n",
    "#pass is a null statement that does nothing. is is used as a placeholder for future code."
   ]
  },
  {
   "cell_type": "code",
   "execution_count": 28,
   "id": "9a3ef39c",
   "metadata": {},
   "outputs": [],
   "source": [
    "for i in range(1,11,2):\n",
    "    pass"
   ]
  },
  {
   "cell_type": "markdown",
   "id": "72d7716f",
   "metadata": {},
   "source": [
    "# WAP to find the sum of first n numbers . (using while and for)"
   ]
  },
  {
   "cell_type": "code",
   "execution_count": 34,
   "id": "74d652dc",
   "metadata": {},
   "outputs": [
    {
     "name": "stdout",
     "output_type": "stream",
     "text": [
      "enter the number: 5\n",
      "15\n"
     ]
    }
   ],
   "source": [
    "n = int(input(\"enter the number: \"))\n",
    "sum = 0\n",
    "i = 1\n",
    "while i <= n:\n",
    "    sum += i\n",
    "    i += 1\n",
    "print(sum)"
   ]
  },
  {
   "cell_type": "code",
   "execution_count": 37,
   "id": "7105194c",
   "metadata": {},
   "outputs": [
    {
     "name": "stdout",
     "output_type": "stream",
     "text": [
      "Enter the number: 5\n",
      "15\n"
     ]
    }
   ],
   "source": [
    "n = int(input(\"Enter the number: \"))\n",
    "sum = 0\n",
    "for i in range(1,n+1):\n",
    "    sum += i\n",
    "print(sum)"
   ]
  },
  {
   "cell_type": "markdown",
   "id": "4880da7d",
   "metadata": {},
   "source": [
    "# WAP to find the factorial of first n numbers. using(while and for)"
   ]
  },
  {
   "cell_type": "code",
   "execution_count": 1,
   "id": "cb4aa371",
   "metadata": {},
   "outputs": [
    {
     "name": "stdout",
     "output_type": "stream",
     "text": [
      "enter the number: 5\n",
      "120\n"
     ]
    }
   ],
   "source": [
    "n = int(input(\"enter the number: \"))\n",
    "fac = 1\n",
    "while n >= 1:\n",
    "    fac *= n\n",
    "    n -= 1\n",
    "print(fac)"
   ]
  },
  {
   "cell_type": "code",
   "execution_count": 2,
   "id": "d895864a",
   "metadata": {},
   "outputs": [
    {
     "name": "stdout",
     "output_type": "stream",
     "text": [
      "enter the number: 5\n",
      "120\n"
     ]
    }
   ],
   "source": [
    "n = int(input(\"enter the number: \"))\n",
    "fac = 1\n",
    "for x in range(n,0,-1):\n",
    "    fac *= x\n",
    "    x -= 1\n",
    "print(fac)"
   ]
  }
 ],
 "metadata": {
  "kernelspec": {
   "display_name": "Python 3 (ipykernel)",
   "language": "python",
   "name": "python3"
  },
  "language_info": {
   "codemirror_mode": {
    "name": "ipython",
    "version": 3
   },
   "file_extension": ".py",
   "mimetype": "text/x-python",
   "name": "python",
   "nbconvert_exporter": "python",
   "pygments_lexer": "ipython3",
   "version": "3.10.9"
  }
 },
 "nbformat": 4,
 "nbformat_minor": 5
}
