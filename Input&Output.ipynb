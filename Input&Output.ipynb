{
 "cells": [
  {
   "cell_type": "markdown",
   "id": "33ad5fd8",
   "metadata": {},
   "source": [
    "# READ"
   ]
  },
  {
   "cell_type": "code",
   "execution_count": 1,
   "id": "dccedced",
   "metadata": {},
   "outputs": [
    {
     "name": "stdout",
     "output_type": "stream",
     "text": [
      "how are you?\n"
     ]
    }
   ],
   "source": [
    "with open(\"EX 1.txt\",\"r\") as f:\n",
    "    data = f.read()\n",
    "    print(data)"
   ]
  },
  {
   "cell_type": "markdown",
   "id": "f12146ff",
   "metadata": {},
   "source": [
    "# WRITE"
   ]
  },
  {
   "cell_type": "code",
   "execution_count": 2,
   "id": "0778cd78",
   "metadata": {},
   "outputs": [],
   "source": [
    "with open(\"EX 2.txt\",\"w\") as f:\n",
    "    f.write(\"how are you\")"
   ]
  },
  {
   "cell_type": "code",
   "execution_count": 3,
   "id": "eb9a6430",
   "metadata": {},
   "outputs": [
    {
     "name": "stdout",
     "output_type": "stream",
     "text": [
      "how are you\n"
     ]
    }
   ],
   "source": [
    "with open(\"EX 2.txt\",\"r\") as f:\n",
    "    data = f.read()\n",
    "    print(data)"
   ]
  },
  {
   "cell_type": "markdown",
   "id": "4337e089",
   "metadata": {},
   "source": [
    "# APPEND"
   ]
  },
  {
   "cell_type": "code",
   "execution_count": 5,
   "id": "5fc8cace",
   "metadata": {},
   "outputs": [],
   "source": [
    "with open(\"EX 4.txt\",\"a\") as f:\n",
    "    f.write(\"\\nI'm fine\")"
   ]
  },
  {
   "cell_type": "code",
   "execution_count": 6,
   "id": "6702acbb",
   "metadata": {},
   "outputs": [
    {
     "name": "stdout",
     "output_type": "stream",
     "text": [
      "Hello WorldI'm fine\n",
      "I'm fine\n"
     ]
    }
   ],
   "source": [
    "with open(\"EX 4.txt\",\"r\") as f:\n",
    "    data = f.read()\n",
    "    print(data)"
   ]
  },
  {
   "cell_type": "markdown",
   "id": "d525a908",
   "metadata": {},
   "source": [
    "# ReadLine"
   ]
  },
  {
   "cell_type": "code",
   "execution_count": 9,
   "id": "9c34d40b",
   "metadata": {},
   "outputs": [
    {
     "name": "stdout",
     "output_type": "stream",
     "text": [
      "hello how are you?\n",
      "\n",
      "i'm fine\n",
      "\n",
      "what is your name?\n",
      "\n",
      "arup ranjan dalai\n"
     ]
    }
   ],
   "source": [
    "with open(\"Ex 3.txt\",\"r\") as f:\n",
    "    data1 = f.readline()\n",
    "    print(data1)\n",
    "    data2 = f.readline()\n",
    "    print(data2)\n",
    "    data3 = f.readline()\n",
    "    print(data3)\n",
    "    data4 = f.readline()\n",
    "    print(data4)"
   ]
  },
  {
   "cell_type": "markdown",
   "id": "1385c258",
   "metadata": {},
   "source": [
    "# r+ read+write over write (ptr start) - truncate"
   ]
  },
  {
   "cell_type": "code",
   "execution_count": 10,
   "id": "271e9ebb",
   "metadata": {},
   "outputs": [
    {
     "name": "stdout",
     "output_type": "stream",
     "text": [
      "are you?\n"
     ]
    }
   ],
   "source": [
    "with open(\"EX 1.txt\",\"r+\") as f:\n",
    "    f.write(\"arup\")\n",
    "    data=f.read()\n",
    "    print(data)"
   ]
  },
  {
   "cell_type": "markdown",
   "id": "7eb3558d",
   "metadata": {},
   "source": [
    "# w+ read+write over write             - truncate"
   ]
  },
  {
   "cell_type": "code",
   "execution_count": 12,
   "id": "7cbe5475",
   "metadata": {},
   "outputs": [
    {
     "name": "stdout",
     "output_type": "stream",
     "text": [
      "\n"
     ]
    }
   ],
   "source": [
    "with open(\"EX 2.txt\",\"w+\") as f:\n",
    "    f.write(\"arup ranjan dalai\")\n",
    "    data = f.read()\n",
    "    print(data)"
   ]
  },
  {
   "cell_type": "code",
   "execution_count": 13,
   "id": "571fa053",
   "metadata": {},
   "outputs": [
    {
     "name": "stdout",
     "output_type": "stream",
     "text": [
      "arup ranjan dalai\n"
     ]
    }
   ],
   "source": [
    "with open(\"EX 2.txt\",\"r\") as f:\n",
    "    data = f.read()\n",
    "    print(data)"
   ]
  },
  {
   "cell_type": "markdown",
   "id": "31048d5c",
   "metadata": {},
   "source": [
    "# a+ read+write append     (ptr end)   - no truncate"
   ]
  },
  {
   "cell_type": "code",
   "execution_count": 14,
   "id": "279f2853",
   "metadata": {},
   "outputs": [
    {
     "name": "stdout",
     "output_type": "stream",
     "text": [
      "\n"
     ]
    }
   ],
   "source": [
    "with open(\"EX 4.txt\",\"a+\") as f:\n",
    "    f.write(\"\\narup ranjan dalai\")\n",
    "    data = f.read()\n",
    "    print(data)"
   ]
  },
  {
   "cell_type": "code",
   "execution_count": 15,
   "id": "da974e8e",
   "metadata": {},
   "outputs": [
    {
     "name": "stdout",
     "output_type": "stream",
     "text": [
      "Hello WorldI'm fine\n",
      "I'm fine\n",
      "arup ranjan dalai\n"
     ]
    }
   ],
   "source": [
    "with open(\"EX 4.txt\",\"r\") as f:\n",
    "    data = f.read()\n",
    "    print(data)"
   ]
  },
  {
   "cell_type": "markdown",
   "id": "78235d89",
   "metadata": {},
   "source": [
    "# Delete a file"
   ]
  },
  {
   "cell_type": "code",
   "execution_count": 16,
   "id": "8f015ed7",
   "metadata": {},
   "outputs": [],
   "source": [
    "import os #operating system"
   ]
  },
  {
   "cell_type": "code",
   "execution_count": 17,
   "id": "fccd7a3d",
   "metadata": {},
   "outputs": [],
   "source": [
    "os.remove(\"CODING NINJA.txt\")"
   ]
  },
  {
   "cell_type": "markdown",
   "id": "99154151",
   "metadata": {},
   "source": [
    "# Create a new file \"practice.txt\" using python Add the following data in it.\n",
    "\n",
    "Hi everyone\n",
    "we are learning file I/O\n",
    "using java\n",
    "I like programming in java"
   ]
  },
  {
   "cell_type": "code",
   "execution_count": 1,
   "id": "fd4af9f4",
   "metadata": {},
   "outputs": [],
   "source": [
    "with open(\"Ex 5.txt\",\"w\") as f:\n",
    "    f.write(\"Hi everyone\\nwe are learning file I/O\\nusing java\\nprogramming in java\")"
   ]
  },
  {
   "cell_type": "code",
   "execution_count": 2,
   "id": "a4fc1036",
   "metadata": {},
   "outputs": [
    {
     "name": "stdout",
     "output_type": "stream",
     "text": [
      "Hi everyone\n",
      "we are learning file I/O\n",
      "using java\n",
      "programming in java\n"
     ]
    }
   ],
   "source": [
    "with open(\"EX 5.txt\",\"r\") as f:\n",
    "    data = f.read()\n",
    "    print(data)"
   ]
  },
  {
   "cell_type": "markdown",
   "id": "055819eb",
   "metadata": {},
   "source": [
    "# WAF that replace all occurences of \"java\" with \"python\" in above file."
   ]
  },
  {
   "cell_type": "code",
   "execution_count": 13,
   "id": "206014ec",
   "metadata": {},
   "outputs": [
    {
     "name": "stdout",
     "output_type": "stream",
     "text": [
      "Hi everyone\n",
      "we are learning file I/O\n",
      "using python\n",
      "programming in python\n"
     ]
    }
   ],
   "source": [
    "with open(\"EX 5.txt\",\"r\") as f:\n",
    "    data = f.read()\n",
    "    data1 = data.replace(\"java\",\"python\")\n",
    "    \n",
    "with open(\"EX 5.txt\",\"w\") as f:\n",
    "    f.write(data1)\n",
    "    \n",
    "with open(\"EX 5.txt\",\"r\") as f:\n",
    "    data = f.read()\n",
    "    print(data)"
   ]
  },
  {
   "cell_type": "markdown",
   "id": "44bd4d57",
   "metadata": {},
   "source": [
    "# Serach if the word \"learning\" exists in the file or not."
   ]
  },
  {
   "cell_type": "code",
   "execution_count": 17,
   "id": "fe08b54c",
   "metadata": {},
   "outputs": [
    {
     "name": "stdout",
     "output_type": "stream",
     "text": [
      "exists in file\n"
     ]
    }
   ],
   "source": [
    "with open(\"EX 5.txt\",\"r\") as f:\n",
    "    data = f.read()\n",
    "    word = \"learning\"\n",
    "    if(word in data):\n",
    "        print(\"exists in file\")\n",
    "    else:\n",
    "        print(\"not exist in file\")"
   ]
  },
  {
   "cell_type": "code",
   "execution_count": 18,
   "id": "b1cbdd01",
   "metadata": {},
   "outputs": [
    {
     "name": "stdout",
     "output_type": "stream",
     "text": [
      "exists in file\n"
     ]
    }
   ],
   "source": [
    "with open(\"EX 5.txt\",\"r\") as f:\n",
    "    data = f.read()\n",
    "    if(\"learning\" in data):\n",
    "        print(\"exists in file\")\n",
    "    else:\n",
    "        print(\"not exist in file\")"
   ]
  },
  {
   "cell_type": "markdown",
   "id": "14c47b59",
   "metadata": {},
   "source": [
    "# WAF to find in which line of yhe file does the word \" learning\" occur first. print -1 if word not found."
   ]
  },
  {
   "cell_type": "code",
   "execution_count": 28,
   "id": "13601af7",
   "metadata": {},
   "outputs": [
    {
     "name": "stdout",
     "output_type": "stream",
     "text": [
      "2\n"
     ]
    }
   ],
   "source": [
    "def line_count():\n",
    "    word = \"learning\"\n",
    "    line_no = 1\n",
    "    data = True\n",
    "    with open(\"EX 5.txt\",\"r\") as f:\n",
    "        while data:\n",
    "            data = f.readline()\n",
    "            if(word in data):\n",
    "                print(line_no)\n",
    "            line_no += 1\n",
    "        #return -1\n",
    "\n",
    "line_count()"
   ]
  },
  {
   "cell_type": "code",
   "execution_count": 32,
   "id": "4b9887e3",
   "metadata": {},
   "outputs": [
    {
     "name": "stdout",
     "output_type": "stream",
     "text": [
      "2\n"
     ]
    }
   ],
   "source": [
    "def line_count():\n",
    "    word = \"learning\"\n",
    "    line_no = 1\n",
    "    #data = True\n",
    "    with open(\"EX 5.txt\",\"r\") as f:\n",
    "        for data in f:\n",
    "            if(word in data):\n",
    "                print(line_no)\n",
    "            line_no += 1\n",
    "            \n",
    "line_count()"
   ]
  },
  {
   "cell_type": "markdown",
   "id": "72197af2",
   "metadata": {},
   "source": [
    "# count number of even in txt file."
   ]
  },
  {
   "cell_type": "code",
   "execution_count": 36,
   "id": "bbcc2b0c",
   "metadata": {},
   "outputs": [],
   "source": [
    "with open(\"EX 6.txt\",\"w\") as f:\n",
    "    f.write(\"2,30,44,5,64,90\")"
   ]
  },
  {
   "cell_type": "code",
   "execution_count": 40,
   "id": "b83755ae",
   "metadata": {},
   "outputs": [
    {
     "name": "stdout",
     "output_type": "stream",
     "text": [
      "5\n"
     ]
    }
   ],
   "source": [
    "count = 0\n",
    "with open(\"EX 6.txt\",\"r\") as f:\n",
    "    data = f.read()\n",
    "    nums = data.split(\",\")\n",
    "    for i in nums:\n",
    "        if(int(i)%2==0):\n",
    "            count += 1\n",
    "    print(count)"
   ]
  },
  {
   "cell_type": "code",
   "execution_count": 41,
   "id": "e43eec52",
   "metadata": {},
   "outputs": [
    {
     "name": "stdout",
     "output_type": "stream",
     "text": [
      "['2', '30', '44', '5', '64', '90']\n"
     ]
    }
   ],
   "source": [
    "count = 0\n",
    "with open(\"EX 6.txt\",\"r\") as f:\n",
    "    data = f.read()\n",
    "    nums = data.split(\",\")\n",
    "    print(nums)"
   ]
  },
  {
   "cell_type": "code",
   "execution_count": 42,
   "id": "f931b88b",
   "metadata": {},
   "outputs": [
    {
     "name": "stdout",
     "output_type": "stream",
     "text": [
      "2,30,44,5,64,90\n"
     ]
    }
   ],
   "source": [
    "count = 0\n",
    "with open(\"EX 6.txt\",\"r\") as f:\n",
    "    data = f.read()\n",
    "    print(data)"
   ]
  }
 ],
 "metadata": {
  "kernelspec": {
   "display_name": "Python 3 (ipykernel)",
   "language": "python",
   "name": "python3"
  },
  "language_info": {
   "codemirror_mode": {
    "name": "ipython",
    "version": 3
   },
   "file_extension": ".py",
   "mimetype": "text/x-python",
   "name": "python",
   "nbconvert_exporter": "python",
   "pygments_lexer": "ipython3",
   "version": "3.10.9"
  }
 },
 "nbformat": 4,
 "nbformat_minor": 5
}
