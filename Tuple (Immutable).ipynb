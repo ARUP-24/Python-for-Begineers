{
 "cells": [
  {
   "cell_type": "markdown",
   "id": "cf7f87fb",
   "metadata": {},
   "source": [
    "# Length"
   ]
  },
  {
   "cell_type": "code",
   "execution_count": 1,
   "id": "b46163df",
   "metadata": {},
   "outputs": [
    {
     "name": "stdout",
     "output_type": "stream",
     "text": [
      "5\n"
     ]
    }
   ],
   "source": [
    "tuple1 = (1,2,3,4,5)\n",
    "print(len(tuple1))"
   ]
  },
  {
   "cell_type": "markdown",
   "id": "df9f3211",
   "metadata": {},
   "source": [
    "# Making tuple using function"
   ]
  },
  {
   "cell_type": "code",
   "execution_count": 2,
   "id": "5fe84aeb",
   "metadata": {},
   "outputs": [
    {
     "name": "stdout",
     "output_type": "stream",
     "text": [
      "(1, 2, 3, 4, 5)\n"
     ]
    }
   ],
   "source": [
    "a = tuple((1,2,3,4,5))\n",
    "print(a)"
   ]
  },
  {
   "cell_type": "markdown",
   "id": "fadbef05",
   "metadata": {},
   "source": [
    "# Empty Tuple"
   ]
  },
  {
   "cell_type": "code",
   "execution_count": 4,
   "id": "45bc7897",
   "metadata": {},
   "outputs": [
    {
     "name": "stdout",
     "output_type": "stream",
     "text": [
      "<class 'tuple'>\n",
      "()\n"
     ]
    }
   ],
   "source": [
    "tuple1 = ()\n",
    "print(type(tuple1))\n",
    "print(tuple1)"
   ]
  },
  {
   "cell_type": "markdown",
   "id": "3db4441a",
   "metadata": {},
   "source": [
    "# Slicing "
   ]
  },
  {
   "cell_type": "code",
   "execution_count": 5,
   "id": "34a9e1be",
   "metadata": {},
   "outputs": [
    {
     "name": "stdout",
     "output_type": "stream",
     "text": [
      "(2, 3)\n"
     ]
    }
   ],
   "source": [
    "tuple1 = (1,2,3,4,5)\n",
    "print(tuple1[1:3])"
   ]
  },
  {
   "cell_type": "code",
   "execution_count": 6,
   "id": "8c0c942e",
   "metadata": {},
   "outputs": [
    {
     "name": "stdout",
     "output_type": "stream",
     "text": [
      "(5, 4, 3, 2, 1)\n"
     ]
    }
   ],
   "source": [
    "tuple1 = (1,2,3,4,5)\n",
    "print(tuple1[::-1]) #reverse"
   ]
  },
  {
   "cell_type": "code",
   "execution_count": 7,
   "id": "960046ce",
   "metadata": {},
   "outputs": [
    {
     "name": "stdout",
     "output_type": "stream",
     "text": [
      "(2, 4)\n"
     ]
    }
   ],
   "source": [
    "tuple1 = (1,2,3,4,5)\n",
    "print(tuple1[1:4:2])"
   ]
  },
  {
   "cell_type": "markdown",
   "id": "100369e7",
   "metadata": {},
   "source": [
    "# Tuple index"
   ]
  },
  {
   "cell_type": "code",
   "execution_count": 15,
   "id": "76ffc998",
   "metadata": {},
   "outputs": [
    {
     "name": "stdout",
     "output_type": "stream",
     "text": [
      "2\n"
     ]
    }
   ],
   "source": [
    "tuple1 = (1,2,3,4,5,3)\n",
    "print(tuple1.index(3)) "
   ]
  },
  {
   "cell_type": "markdown",
   "id": "8c206e5c",
   "metadata": {},
   "source": [
    "# Tuple count"
   ]
  },
  {
   "cell_type": "code",
   "execution_count": 11,
   "id": "e45c9b7a",
   "metadata": {},
   "outputs": [
    {
     "name": "stdout",
     "output_type": "stream",
     "text": [
      "2\n"
     ]
    }
   ],
   "source": [
    "tuple1 = (1,2,3,4,5,5,4)\n",
    "print(tuple1.count(5)) "
   ]
  },
  {
   "cell_type": "markdown",
   "id": "0f33fe4d",
   "metadata": {},
   "source": [
    "# Concatination"
   ]
  },
  {
   "cell_type": "code",
   "execution_count": 1,
   "id": "07b92385",
   "metadata": {},
   "outputs": [
    {
     "name": "stdout",
     "output_type": "stream",
     "text": [
      "(1, 2, 3, 4, 5, 6, 7, 8, 9, 10)\n"
     ]
    }
   ],
   "source": [
    "tuple1 = (1,2,3,4,5)\n",
    "tuple2 = (6,7,8,9,10)\n",
    "print(tuple1 + tuple2) "
   ]
  },
  {
   "cell_type": "markdown",
   "id": "60af19c7",
   "metadata": {},
   "source": [
    "# WAP to ask the user to enter names of their 3 favorite movies and store in a list."
   ]
  },
  {
   "cell_type": "code",
   "execution_count": 2,
   "id": "d739268b",
   "metadata": {},
   "outputs": [
    {
     "name": "stdout",
     "output_type": "stream",
     "text": [
      "Enter the first movie:  war\n",
      "Enter the second movie: uri\n",
      "Enter the third movie: fighter\n",
      "['war', 'uri', 'fighter']\n"
     ]
    }
   ],
   "source": [
    "list1 = []\n",
    "first = input(\"Enter the first movie:  \")\n",
    "list1.append(first)\n",
    "second = input(\"Enter the second movie: \")\n",
    "list1.append(second)\n",
    "third = input(\"Enter the third movie: \")\n",
    "list1.append(third)\n",
    "print(list1)"
   ]
  },
  {
   "cell_type": "markdown",
   "id": "add278fc",
   "metadata": {},
   "source": [
    "# WAP to check if a list contains a palindrome of elements."
   ]
  },
  {
   "cell_type": "code",
   "execution_count": 11,
   "id": "73c77d32",
   "metadata": {},
   "outputs": [
    {
     "name": "stdout",
     "output_type": "stream",
     "text": [
      "list is palindrome\n"
     ]
    }
   ],
   "source": [
    "list1 = [1,2,1]\n",
    "list2 = list1.copy()\n",
    "list2.reverse()\n",
    "if list1 == list2:\n",
    "    print(\"list is palindrome\")\n",
    "else:\n",
    "    print(\"list is not a palindrome\")"
   ]
  },
  {
   "cell_type": "markdown",
   "id": "e232a531",
   "metadata": {},
   "source": [
    "# WAP to count the number of students with the grade \"A\" in the following tuple. "
   ]
  },
  {
   "cell_type": "code",
   "execution_count": 12,
   "id": "5ebc2117",
   "metadata": {},
   "outputs": [
    {
     "name": "stdout",
     "output_type": "stream",
     "text": [
      "3\n"
     ]
    }
   ],
   "source": [
    "tuple1 = (\"C\",\"D\",\"A\",\"A\",\"B\",\"B\",\"A\")\n",
    "print(tuple1.count(\"A\"))"
   ]
  },
  {
   "cell_type": "markdown",
   "id": "0a0612b4",
   "metadata": {},
   "source": [
    "# Store the above into a list and sort them from \"A\" to \"D\""
   ]
  },
  {
   "cell_type": "code",
   "execution_count": 13,
   "id": "0920d838",
   "metadata": {},
   "outputs": [
    {
     "name": "stdout",
     "output_type": "stream",
     "text": [
      "['A', 'A', 'A', 'B', 'B', 'C', 'D']\n"
     ]
    }
   ],
   "source": [
    "tuple1 = (\"C\",\"D\",\"A\",\"A\",\"B\",\"B\",\"A\")\n",
    "list1 = list(tuple1)\n",
    "list1.sort()\n",
    "print(list1)"
   ]
  }
 ],
 "metadata": {
  "kernelspec": {
   "display_name": "Python 3 (ipykernel)",
   "language": "python",
   "name": "python3"
  },
  "language_info": {
   "codemirror_mode": {
    "name": "ipython",
    "version": 3
   },
   "file_extension": ".py",
   "mimetype": "text/x-python",
   "name": "python",
   "nbconvert_exporter": "python",
   "pygments_lexer": "ipython3",
   "version": "3.10.9"
  }
 },
 "nbformat": 4,
 "nbformat_minor": 5
}
