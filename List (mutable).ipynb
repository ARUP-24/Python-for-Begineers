{
 "cells": [
  {
   "cell_type": "markdown",
   "id": "8c75bec6",
   "metadata": {},
   "source": [
    "# Length"
   ]
  },
  {
   "cell_type": "code",
   "execution_count": 35,
   "id": "439ba41f",
   "metadata": {},
   "outputs": [
    {
     "name": "stdout",
     "output_type": "stream",
     "text": [
      "5\n"
     ]
    }
   ],
   "source": [
    "list1 = [1,2,3,4,5]\n",
    "print(len(list1))"
   ]
  },
  {
   "cell_type": "markdown",
   "id": "a1bd4b42",
   "metadata": {},
   "source": [
    "# Slicing"
   ]
  },
  {
   "cell_type": "code",
   "execution_count": 1,
   "id": "a8cad429",
   "metadata": {},
   "outputs": [
    {
     "name": "stdout",
     "output_type": "stream",
     "text": [
      "3\n"
     ]
    }
   ],
   "source": [
    "list1 = [1,2,3,4,5]\n",
    "print(list1[2])"
   ]
  },
  {
   "cell_type": "code",
   "execution_count": 2,
   "id": "6b5607aa",
   "metadata": {},
   "outputs": [
    {
     "name": "stdout",
     "output_type": "stream",
     "text": [
      "[3, 4]\n"
     ]
    }
   ],
   "source": [
    "list1 = [1,2,3,4,5]\n",
    "print(list1[2:4])"
   ]
  },
  {
   "cell_type": "code",
   "execution_count": 3,
   "id": "b932c217",
   "metadata": {},
   "outputs": [
    {
     "name": "stdout",
     "output_type": "stream",
     "text": [
      "[5, 4, 3, 2, 1]\n"
     ]
    }
   ],
   "source": [
    "list1 = [1,2,3,4,5]\n",
    "print(list1[::-1]) # reverse the using slicing"
   ]
  },
  {
   "cell_type": "markdown",
   "id": "59859a7b",
   "metadata": {},
   "source": [
    "# Change value of list"
   ]
  },
  {
   "cell_type": "code",
   "execution_count": 5,
   "id": "a1d3e4c8",
   "metadata": {},
   "outputs": [
    {
     "name": "stdout",
     "output_type": "stream",
     "text": [
      "[1, 2, 10, 4, 5]\n"
     ]
    }
   ],
   "source": [
    "list1 = [1,2,3,4,5]\n",
    "list1[2] = 10\n",
    "print(list1)"
   ]
  },
  {
   "cell_type": "code",
   "execution_count": 26,
   "id": "2ab0f318",
   "metadata": {},
   "outputs": [
    {
     "name": "stdout",
     "output_type": "stream",
     "text": [
      "[1, 2, 10, 20, 30, 5]\n"
     ]
    }
   ],
   "source": [
    "list1 = [1,2,3,4,5]\n",
    "list1[2:4] = [10,20,30]\n",
    "print(list1)"
   ]
  },
  {
   "cell_type": "code",
   "execution_count": 27,
   "id": "a21aeafc",
   "metadata": {},
   "outputs": [
    {
     "name": "stdout",
     "output_type": "stream",
     "text": [
      "[1, 2, 10, 20, 30, 4, 5]\n"
     ]
    }
   ],
   "source": [
    "list1 = [1,2,3,4,5]\n",
    "list1[2:3] = [10,20,30]\n",
    "print(list1)"
   ]
  },
  {
   "cell_type": "markdown",
   "id": "ea0ee957",
   "metadata": {},
   "source": [
    "# Add element in List"
   ]
  },
  {
   "cell_type": "code",
   "execution_count": 10,
   "id": "ea372096",
   "metadata": {},
   "outputs": [
    {
     "name": "stdout",
     "output_type": "stream",
     "text": [
      "[1, 2, 3, 4, 5, 10]\n"
     ]
    }
   ],
   "source": [
    "list1 = [1,2,3,4,5]\n",
    "list1.append(10)\n",
    "print(list1)"
   ]
  },
  {
   "cell_type": "markdown",
   "id": "efbe8f1c",
   "metadata": {},
   "source": [
    "# Concatination"
   ]
  },
  {
   "cell_type": "code",
   "execution_count": 1,
   "id": "ed2c43b0",
   "metadata": {},
   "outputs": [
    {
     "name": "stdout",
     "output_type": "stream",
     "text": [
      "[1, 2, 3, 4, 5, 6, 7, 8, 9, 10]\n"
     ]
    }
   ],
   "source": [
    "list1 = [1,2,3,4,5]\n",
    "list2 = [6,7,8,9,10]\n",
    "print(list1 + list2)"
   ]
  },
  {
   "cell_type": "markdown",
   "id": "39d6cca5",
   "metadata": {},
   "source": [
    "# Sort element "
   ]
  },
  {
   "cell_type": "code",
   "execution_count": 13,
   "id": "3390daeb",
   "metadata": {},
   "outputs": [
    {
     "name": "stdout",
     "output_type": "stream",
     "text": [
      "[1, 2, 9, 10, 20]\n"
     ]
    }
   ],
   "source": [
    "list1 = [10,20,9,2,1] #Acending order\n",
    "list1.sort()\n",
    "print(list1)"
   ]
  },
  {
   "cell_type": "code",
   "execution_count": 15,
   "id": "da272507",
   "metadata": {},
   "outputs": [
    {
     "name": "stdout",
     "output_type": "stream",
     "text": [
      "[20, 10, 9, 2, 1]\n"
     ]
    }
   ],
   "source": [
    "list1 = [10,20,9,2,1] #decending order\n",
    "list1.sort(reverse=True)\n",
    "print(list1)"
   ]
  },
  {
   "cell_type": "markdown",
   "id": "585d5a62",
   "metadata": {},
   "source": [
    "# Reverse element in list"
   ]
  },
  {
   "cell_type": "code",
   "execution_count": 16,
   "id": "d9c49af8",
   "metadata": {},
   "outputs": [
    {
     "name": "stdout",
     "output_type": "stream",
     "text": [
      "[1, 2, 9, 20, 10]\n"
     ]
    }
   ],
   "source": [
    "list1 = [10,20,9,2,1]\n",
    "list1.reverse()\n",
    "print(list1)"
   ]
  },
  {
   "cell_type": "markdown",
   "id": "59bf5ad5",
   "metadata": {},
   "source": [
    "# insert element at index"
   ]
  },
  {
   "cell_type": "code",
   "execution_count": 17,
   "id": "d52df750",
   "metadata": {},
   "outputs": [
    {
     "name": "stdout",
     "output_type": "stream",
     "text": [
      "[10, 20, 30, 9, 2, 1]\n"
     ]
    }
   ],
   "source": [
    "list1 = [10,20,9,2,1]\n",
    "list1.insert(2,30)\n",
    "print(list1)"
   ]
  },
  {
   "cell_type": "markdown",
   "id": "50f5db8f",
   "metadata": {},
   "source": [
    "# Remove element from list"
   ]
  },
  {
   "cell_type": "code",
   "execution_count": 18,
   "id": "f056a930",
   "metadata": {},
   "outputs": [
    {
     "name": "stdout",
     "output_type": "stream",
     "text": [
      "[10, 9, 2, 1]\n"
     ]
    }
   ],
   "source": [
    "list1 = [10,20,9,2,1]\n",
    "list1.remove(20)\n",
    "print(list1)"
   ]
  },
  {
   "cell_type": "markdown",
   "id": "57d0b309",
   "metadata": {},
   "source": [
    "# POP element from list"
   ]
  },
  {
   "cell_type": "code",
   "execution_count": 19,
   "id": "7cd0c00f",
   "metadata": {},
   "outputs": [
    {
     "name": "stdout",
     "output_type": "stream",
     "text": [
      "[10, 20, 2, 1]\n"
     ]
    }
   ],
   "source": [
    "list1 = [10,20,9,2,1] \n",
    "list1.pop(2)\n",
    "print(list1)"
   ]
  },
  {
   "cell_type": "markdown",
   "id": "c7d39a58",
   "metadata": {},
   "source": [
    "# Data type"
   ]
  },
  {
   "cell_type": "code",
   "execution_count": 20,
   "id": "9f0ba220",
   "metadata": {},
   "outputs": [
    {
     "name": "stdout",
     "output_type": "stream",
     "text": [
      "<class 'list'>\n"
     ]
    }
   ],
   "source": [
    "list1 = [10,20,9,2,1]\n",
    "print(type(list1))"
   ]
  },
  {
   "cell_type": "markdown",
   "id": "7412210a",
   "metadata": {},
   "source": [
    "# Making list using function"
   ]
  },
  {
   "cell_type": "code",
   "execution_count": 34,
   "id": "0d9f850f",
   "metadata": {},
   "outputs": [
    {
     "name": "stdout",
     "output_type": "stream",
     "text": [
      "[1, 2, 3]\n"
     ]
    }
   ],
   "source": [
    "a = list([1,2,3])\n",
    "print(a)"
   ]
  },
  {
   "cell_type": "markdown",
   "id": "9e6f832d",
   "metadata": {},
   "source": [
    "# Empty list"
   ]
  },
  {
   "cell_type": "code",
   "execution_count": 1,
   "id": "11b1c2fc",
   "metadata": {},
   "outputs": [
    {
     "name": "stdout",
     "output_type": "stream",
     "text": [
      "<class 'list'>\n",
      "[]\n"
     ]
    }
   ],
   "source": [
    "list1 = []\n",
    "print(type(list1))\n",
    "print(list1)"
   ]
  },
  {
   "cell_type": "markdown",
   "id": "0f843edd",
   "metadata": {},
   "source": [
    "# Copy list"
   ]
  },
  {
   "cell_type": "code",
   "execution_count": 2,
   "id": "214fe167",
   "metadata": {},
   "outputs": [
    {
     "name": "stdout",
     "output_type": "stream",
     "text": [
      "[1, 2, 3, 4, 5]\n"
     ]
    }
   ],
   "source": [
    "list1 = [1,2,3,4,5]\n",
    "list2 = list1.copy()\n",
    "print(list2)"
   ]
  }
 ],
 "metadata": {
  "kernelspec": {
   "display_name": "Python 3 (ipykernel)",
   "language": "python",
   "name": "python3"
  },
  "language_info": {
   "codemirror_mode": {
    "name": "ipython",
    "version": 3
   },
   "file_extension": ".py",
   "mimetype": "text/x-python",
   "name": "python",
   "nbconvert_exporter": "python",
   "pygments_lexer": "ipython3",
   "version": "3.10.9"
  }
 },
 "nbformat": 4,
 "nbformat_minor": 5
}
